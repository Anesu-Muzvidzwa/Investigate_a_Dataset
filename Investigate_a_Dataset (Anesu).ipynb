{
 "cells": [
  {
   "cell_type": "markdown",
   "metadata": {},
   "source": [
    "# Project: Investigate a Dataset - No Show Appointments\n",
    "\n",
    "## Table of Contents\n",
    "<ul>\n",
    "<li><a href=\"#intro\">Introduction</a></li>\n",
    "<li><a href=\"#wrangling\">Data Wrangling</a></li>\n",
    "<li><a href=\"#eda\">Exploratory Data Analysis</a></li>\n",
    "<li><a href=\"#conclusions\">Conclusions</a></li>\n",
    "</ul>"
   ]
  },
  {
   "cell_type": "markdown",
   "metadata": {},
   "source": [
    "<a id='intro'></a>\n",
    "## Introduction\n",
    "\n",
    "### Dataset Description \n",
    "This  dataset  shows if a patient showed up for an appoimtment or not after the patient had scheduled an appointment with the hospital. the data has the following variabls as columns.\n",
    "\n",
    "#### Columns\n",
    "1. PatientID\n",
    "  * Patient identification number\n",
    "2. Appointment ID\n",
    "  * Appointment Identification number\n",
    "3. Gender\n",
    "  * Whether the patient is male or female. Women are in greater propotion\n",
    "4. DataMarcacaoConsulta\n",
    "  * The day of the appointment \n",
    "5. DataAgendamento\n",
    "  * The day the appointment was mad\n",
    "6. Age\n",
    "  * The patient's Age\n",
    "7. Neighbourhood\n",
    "  * location of the appointment\n",
    "8. Scholarship\n",
    "  * True or False whether a patient has health care or not\n",
    "9. Hipertension\n",
    "  * True or False whether a patient has Hypertension\n",
    "10. Diabetes\n",
    "  * True or False whether a patient is Diabetic\n",
    "11. Alcoholism\n",
    "  * True or False whether a patient is Alcoholic\n",
    "12. Handcap\n",
    "  * True or False whether a patient is Handcap\n",
    "13. SMS_received\n",
    "  * 1 or more notification messages sent to patient\n",
    "14. No-show\n",
    "  * True or False whether thry showed up for the appointment\n",
    "\n",
    "### Question(s) for Analysis\n",
    "\n",
    "\n",
    "#### Question 1\n",
    "Which Neighbourhood has the most no-shows ?\n",
    "> Will this neighbouhood influence the probablity of a patient not showing up.\n",
    "#### Question 2\n",
    "Which age has the most no shows to appointments?\n",
    "> If a patient is a in certain age range will it influence whether they show up or not.\n",
    "#### Question 3\n",
    "Do Patients with a scholarship show up more than those without?\n",
    "> I expect patients with healthcare to show up more for their appointment than thosae without since they're coverd for expenses.`\n",
    "#### Question 4\n",
    "Are patients with pre existing conditons like hipertension, diabetes or handcap more likely to show up for their appointment?\n",
    "> Patients with medical conditions should attend more of their apppointments since they need regualr caheck up.\n",
    "\n"
   ]
  },
  {
   "cell_type": "code",
   "execution_count": 250,
   "metadata": {},
   "outputs": [],
   "source": [
    "\n",
    "#importing libriries\n",
    "import pandas as pd\n",
    "import numpy as np\n",
    "import seaborn as sns\n",
    "import matplotlib.pyplot as plt\n",
    "%matplotlib inline\n",
    "\n",
    "#loading dataset\n",
    "df = pd.read_csv('noshowappointments-kagglev2-may-2016.csv')\n",
    "\n",
    "\n"
   ]
  },
  {
   "cell_type": "markdown",
   "metadata": {},
   "source": [
    "<a id='wrangling'></a>\n",
    "## Data Wrangling\n",
    "\n"
   ]
  },
  {
   "cell_type": "code",
   "execution_count": 251,
   "metadata": {
    "scrolled": true
   },
   "outputs": [
    {
     "data": {
      "text/html": [
       "<div>\n",
       "<style scoped>\n",
       "    .dataframe tbody tr th:only-of-type {\n",
       "        vertical-align: middle;\n",
       "    }\n",
       "\n",
       "    .dataframe tbody tr th {\n",
       "        vertical-align: top;\n",
       "    }\n",
       "\n",
       "    .dataframe thead th {\n",
       "        text-align: right;\n",
       "    }\n",
       "</style>\n",
       "<table border=\"1\" class=\"dataframe\">\n",
       "  <thead>\n",
       "    <tr style=\"text-align: right;\">\n",
       "      <th></th>\n",
       "      <th>PatientId</th>\n",
       "      <th>AppointmentID</th>\n",
       "      <th>Gender</th>\n",
       "      <th>ScheduledDay</th>\n",
       "      <th>AppointmentDay</th>\n",
       "      <th>Age</th>\n",
       "      <th>Neighbourhood</th>\n",
       "      <th>Scholarship</th>\n",
       "      <th>Hipertension</th>\n",
       "      <th>Diabetes</th>\n",
       "      <th>Alcoholism</th>\n",
       "      <th>Handcap</th>\n",
       "      <th>SMS_received</th>\n",
       "      <th>No-show</th>\n",
       "    </tr>\n",
       "  </thead>\n",
       "  <tbody>\n",
       "    <tr>\n",
       "      <th>0</th>\n",
       "      <td>2.987250e+13</td>\n",
       "      <td>5642903</td>\n",
       "      <td>F</td>\n",
       "      <td>2016-04-29T18:38:08Z</td>\n",
       "      <td>2016-04-29T00:00:00Z</td>\n",
       "      <td>62</td>\n",
       "      <td>JARDIM DA PENHA</td>\n",
       "      <td>0</td>\n",
       "      <td>1</td>\n",
       "      <td>0</td>\n",
       "      <td>0</td>\n",
       "      <td>0</td>\n",
       "      <td>0</td>\n",
       "      <td>No</td>\n",
       "    </tr>\n",
       "    <tr>\n",
       "      <th>1</th>\n",
       "      <td>5.589978e+14</td>\n",
       "      <td>5642503</td>\n",
       "      <td>M</td>\n",
       "      <td>2016-04-29T16:08:27Z</td>\n",
       "      <td>2016-04-29T00:00:00Z</td>\n",
       "      <td>56</td>\n",
       "      <td>JARDIM DA PENHA</td>\n",
       "      <td>0</td>\n",
       "      <td>0</td>\n",
       "      <td>0</td>\n",
       "      <td>0</td>\n",
       "      <td>0</td>\n",
       "      <td>0</td>\n",
       "      <td>No</td>\n",
       "    </tr>\n",
       "    <tr>\n",
       "      <th>2</th>\n",
       "      <td>4.262962e+12</td>\n",
       "      <td>5642549</td>\n",
       "      <td>F</td>\n",
       "      <td>2016-04-29T16:19:04Z</td>\n",
       "      <td>2016-04-29T00:00:00Z</td>\n",
       "      <td>62</td>\n",
       "      <td>MATA DA PRAIA</td>\n",
       "      <td>0</td>\n",
       "      <td>0</td>\n",
       "      <td>0</td>\n",
       "      <td>0</td>\n",
       "      <td>0</td>\n",
       "      <td>0</td>\n",
       "      <td>No</td>\n",
       "    </tr>\n",
       "    <tr>\n",
       "      <th>3</th>\n",
       "      <td>8.679512e+11</td>\n",
       "      <td>5642828</td>\n",
       "      <td>F</td>\n",
       "      <td>2016-04-29T17:29:31Z</td>\n",
       "      <td>2016-04-29T00:00:00Z</td>\n",
       "      <td>8</td>\n",
       "      <td>PONTAL DE CAMBURI</td>\n",
       "      <td>0</td>\n",
       "      <td>0</td>\n",
       "      <td>0</td>\n",
       "      <td>0</td>\n",
       "      <td>0</td>\n",
       "      <td>0</td>\n",
       "      <td>No</td>\n",
       "    </tr>\n",
       "    <tr>\n",
       "      <th>4</th>\n",
       "      <td>8.841186e+12</td>\n",
       "      <td>5642494</td>\n",
       "      <td>F</td>\n",
       "      <td>2016-04-29T16:07:23Z</td>\n",
       "      <td>2016-04-29T00:00:00Z</td>\n",
       "      <td>56</td>\n",
       "      <td>JARDIM DA PENHA</td>\n",
       "      <td>0</td>\n",
       "      <td>1</td>\n",
       "      <td>1</td>\n",
       "      <td>0</td>\n",
       "      <td>0</td>\n",
       "      <td>0</td>\n",
       "      <td>No</td>\n",
       "    </tr>\n",
       "    <tr>\n",
       "      <th>...</th>\n",
       "      <td>...</td>\n",
       "      <td>...</td>\n",
       "      <td>...</td>\n",
       "      <td>...</td>\n",
       "      <td>...</td>\n",
       "      <td>...</td>\n",
       "      <td>...</td>\n",
       "      <td>...</td>\n",
       "      <td>...</td>\n",
       "      <td>...</td>\n",
       "      <td>...</td>\n",
       "      <td>...</td>\n",
       "      <td>...</td>\n",
       "      <td>...</td>\n",
       "    </tr>\n",
       "    <tr>\n",
       "      <th>75</th>\n",
       "      <td>1.488942e+11</td>\n",
       "      <td>5597632</td>\n",
       "      <td>F</td>\n",
       "      <td>2016-04-18T17:32:53Z</td>\n",
       "      <td>2016-04-29T00:00:00Z</td>\n",
       "      <td>60</td>\n",
       "      <td>JABOUR</td>\n",
       "      <td>0</td>\n",
       "      <td>0</td>\n",
       "      <td>0</td>\n",
       "      <td>0</td>\n",
       "      <td>0</td>\n",
       "      <td>0</td>\n",
       "      <td>No</td>\n",
       "    </tr>\n",
       "    <tr>\n",
       "      <th>76</th>\n",
       "      <td>6.549277e+12</td>\n",
       "      <td>5597643</td>\n",
       "      <td>M</td>\n",
       "      <td>2016-04-18T17:40:18Z</td>\n",
       "      <td>2016-04-29T00:00:00Z</td>\n",
       "      <td>28</td>\n",
       "      <td>ANTÔNIO HONÓRIO</td>\n",
       "      <td>0</td>\n",
       "      <td>0</td>\n",
       "      <td>0</td>\n",
       "      <td>0</td>\n",
       "      <td>0</td>\n",
       "      <td>0</td>\n",
       "      <td>Yes</td>\n",
       "    </tr>\n",
       "    <tr>\n",
       "      <th>77</th>\n",
       "      <td>5.753721e+12</td>\n",
       "      <td>5642767</td>\n",
       "      <td>F</td>\n",
       "      <td>2016-04-29T17:06:27Z</td>\n",
       "      <td>2016-04-29T00:00:00Z</td>\n",
       "      <td>27</td>\n",
       "      <td>JABOUR</td>\n",
       "      <td>0</td>\n",
       "      <td>0</td>\n",
       "      <td>0</td>\n",
       "      <td>0</td>\n",
       "      <td>0</td>\n",
       "      <td>0</td>\n",
       "      <td>No</td>\n",
       "    </tr>\n",
       "    <tr>\n",
       "      <th>78</th>\n",
       "      <td>6.259265e+11</td>\n",
       "      <td>5597672</td>\n",
       "      <td>M</td>\n",
       "      <td>2016-04-18T17:52:49Z</td>\n",
       "      <td>2016-04-29T00:00:00Z</td>\n",
       "      <td>21</td>\n",
       "      <td>MARIA ORTIZ</td>\n",
       "      <td>0</td>\n",
       "      <td>0</td>\n",
       "      <td>0</td>\n",
       "      <td>0</td>\n",
       "      <td>0</td>\n",
       "      <td>1</td>\n",
       "      <td>No</td>\n",
       "    </tr>\n",
       "    <tr>\n",
       "      <th>79</th>\n",
       "      <td>9.912882e+13</td>\n",
       "      <td>5597673</td>\n",
       "      <td>M</td>\n",
       "      <td>2016-04-18T17:53:25Z</td>\n",
       "      <td>2016-04-29T00:00:00Z</td>\n",
       "      <td>67</td>\n",
       "      <td>MARIA ORTIZ</td>\n",
       "      <td>0</td>\n",
       "      <td>0</td>\n",
       "      <td>0</td>\n",
       "      <td>0</td>\n",
       "      <td>0</td>\n",
       "      <td>1</td>\n",
       "      <td>Yes</td>\n",
       "    </tr>\n",
       "  </tbody>\n",
       "</table>\n",
       "<p>80 rows × 14 columns</p>\n",
       "</div>"
      ],
      "text/plain": [
       "       PatientId  AppointmentID Gender          ScheduledDay  \\\n",
       "0   2.987250e+13        5642903      F  2016-04-29T18:38:08Z   \n",
       "1   5.589978e+14        5642503      M  2016-04-29T16:08:27Z   \n",
       "2   4.262962e+12        5642549      F  2016-04-29T16:19:04Z   \n",
       "3   8.679512e+11        5642828      F  2016-04-29T17:29:31Z   \n",
       "4   8.841186e+12        5642494      F  2016-04-29T16:07:23Z   \n",
       "..           ...            ...    ...                   ...   \n",
       "75  1.488942e+11        5597632      F  2016-04-18T17:32:53Z   \n",
       "76  6.549277e+12        5597643      M  2016-04-18T17:40:18Z   \n",
       "77  5.753721e+12        5642767      F  2016-04-29T17:06:27Z   \n",
       "78  6.259265e+11        5597672      M  2016-04-18T17:52:49Z   \n",
       "79  9.912882e+13        5597673      M  2016-04-18T17:53:25Z   \n",
       "\n",
       "          AppointmentDay  Age      Neighbourhood  Scholarship  Hipertension  \\\n",
       "0   2016-04-29T00:00:00Z   62    JARDIM DA PENHA            0             1   \n",
       "1   2016-04-29T00:00:00Z   56    JARDIM DA PENHA            0             0   \n",
       "2   2016-04-29T00:00:00Z   62      MATA DA PRAIA            0             0   \n",
       "3   2016-04-29T00:00:00Z    8  PONTAL DE CAMBURI            0             0   \n",
       "4   2016-04-29T00:00:00Z   56    JARDIM DA PENHA            0             1   \n",
       "..                   ...  ...                ...          ...           ...   \n",
       "75  2016-04-29T00:00:00Z   60             JABOUR            0             0   \n",
       "76  2016-04-29T00:00:00Z   28    ANTÔNIO HONÓRIO            0             0   \n",
       "77  2016-04-29T00:00:00Z   27             JABOUR            0             0   \n",
       "78  2016-04-29T00:00:00Z   21        MARIA ORTIZ            0             0   \n",
       "79  2016-04-29T00:00:00Z   67        MARIA ORTIZ            0             0   \n",
       "\n",
       "    Diabetes  Alcoholism  Handcap  SMS_received No-show  \n",
       "0          0           0        0             0      No  \n",
       "1          0           0        0             0      No  \n",
       "2          0           0        0             0      No  \n",
       "3          0           0        0             0      No  \n",
       "4          1           0        0             0      No  \n",
       "..       ...         ...      ...           ...     ...  \n",
       "75         0           0        0             0      No  \n",
       "76         0           0        0             0     Yes  \n",
       "77         0           0        0             0      No  \n",
       "78         0           0        0             1      No  \n",
       "79         0           0        0             1     Yes  \n",
       "\n",
       "[80 rows x 14 columns]"
      ]
     },
     "execution_count": 251,
     "metadata": {},
     "output_type": "execute_result"
    }
   ],
   "source": [
    "# Loading data and print out a few lines. Performing operations to inspect data\n",
    "\n",
    "df.head(80)"
   ]
  },
  {
   "cell_type": "markdown",
   "metadata": {},
   "source": [
    "> viewing the first 80 rows fo the data to ahe look and feel of hoe the columns appear and they contain."
   ]
  },
  {
   "cell_type": "code",
   "execution_count": 252,
   "metadata": {},
   "outputs": [
    {
     "data": {
      "text/plain": [
       "(110527, 14)"
      ]
     },
     "execution_count": 252,
     "metadata": {},
     "output_type": "execute_result"
    }
   ],
   "source": [
    "df.shape\n",
    "#how many rolls and columns are in the dataset"
   ]
  },
  {
   "cell_type": "markdown",
   "metadata": {},
   "source": [
    "### Missing and null Values\n",
    "The data does not have missing valuse nor null vlues"
   ]
  },
  {
   "cell_type": "code",
   "execution_count": 253,
   "metadata": {},
   "outputs": [
    {
     "name": "stdout",
     "output_type": "stream",
     "text": [
      "<class 'pandas.core.frame.DataFrame'>\n",
      "RangeIndex: 110527 entries, 0 to 110526\n",
      "Data columns (total 14 columns):\n",
      " #   Column          Non-Null Count   Dtype  \n",
      "---  ------          --------------   -----  \n",
      " 0   PatientId       110527 non-null  float64\n",
      " 1   AppointmentID   110527 non-null  int64  \n",
      " 2   Gender          110527 non-null  object \n",
      " 3   ScheduledDay    110527 non-null  object \n",
      " 4   AppointmentDay  110527 non-null  object \n",
      " 5   Age             110527 non-null  int64  \n",
      " 6   Neighbourhood   110527 non-null  object \n",
      " 7   Scholarship     110527 non-null  int64  \n",
      " 8   Hipertension    110527 non-null  int64  \n",
      " 9   Diabetes        110527 non-null  int64  \n",
      " 10  Alcoholism      110527 non-null  int64  \n",
      " 11  Handcap         110527 non-null  int64  \n",
      " 12  SMS_received    110527 non-null  int64  \n",
      " 13  No-show         110527 non-null  object \n",
      "dtypes: float64(1), int64(8), object(5)\n",
      "memory usage: 11.8+ MB\n"
     ]
    }
   ],
   "source": [
    "df.info()"
   ]
  },
  {
   "cell_type": "markdown",
   "metadata": {},
   "source": [
    "### Checking for duplicated values"
   ]
  },
  {
   "cell_type": "code",
   "execution_count": 254,
   "metadata": {},
   "outputs": [
    {
     "data": {
      "text/plain": [
       "48228"
      ]
     },
     "execution_count": 254,
     "metadata": {},
     "output_type": "execute_result"
    }
   ],
   "source": [
    "df.PatientId.duplicated().sum()\n",
    "#from this result we can see that some patients made more than one appointment"
   ]
  },
  {
   "cell_type": "code",
   "execution_count": 255,
   "metadata": {},
   "outputs": [
    {
     "data": {
      "text/plain": [
       "110527"
      ]
     },
     "execution_count": 255,
     "metadata": {},
     "output_type": "execute_result"
    }
   ],
   "source": [
    "#we need to check if the appointmentid has all unique values meaning no double entries\n",
    "df.AppointmentID.nunique()"
   ]
  },
  {
   "cell_type": "markdown",
   "metadata": {},
   "source": [
    "#### The AppointmentId column has unique values\n",
    ">We can use the appoiintment id to investigate the relations between the show and no-show patients\n",
    "\n"
   ]
  },
  {
   "cell_type": "code",
   "execution_count": 256,
   "metadata": {
    "scrolled": true
   },
   "outputs": [
    {
     "data": {
      "text/plain": [
       "81"
      ]
     },
     "execution_count": 256,
     "metadata": {},
     "output_type": "execute_result"
    }
   ],
   "source": [
    "#chacking how many neighbourhoods are in the dataset\n",
    "df.Neighbourhood.nunique()"
   ]
  },
  {
   "cell_type": "code",
   "execution_count": 257,
   "metadata": {},
   "outputs": [
    {
     "data": {
      "text/plain": [
       "103549"
      ]
     },
     "execution_count": 257,
     "metadata": {},
     "output_type": "execute_result"
    }
   ],
   "source": [
    "#checking for unique schedule days \n",
    "df.ScheduledDay.nunique()"
   ]
  },
  {
   "cell_type": "markdown",
   "metadata": {},
   "source": [
    "\n",
    "### Data Cleaning\n"
   ]
  },
  {
   "cell_type": "markdown",
   "metadata": {},
   "source": [
    "#### Appointment day descrepancies \n",
    ">From the data it seems as if appointments that were made in the same month were all appointed to the same day. Obviously there is an error here in  the data capturing so thats why the AppointmentDay column will be droped.\n",
    "Schedule Day will also be drooped since every patient that is in this dataset made a booking for an appointment."
   ]
  },
  {
   "cell_type": "code",
   "execution_count": 258,
   "metadata": {
    "scrolled": true
   },
   "outputs": [
    {
     "data": {
      "text/plain": [
       "110500"
      ]
     },
     "execution_count": 258,
     "metadata": {},
     "output_type": "execute_result"
    }
   ],
   "source": [
    "df.AppointmentDay.duplicated().sum()"
   ]
  },
  {
   "cell_type": "markdown",
   "metadata": {},
   "source": [
    "#### Dropping Appointment Day and Schedule day"
   ]
  },
  {
   "cell_type": "code",
   "execution_count": 259,
   "metadata": {},
   "outputs": [],
   "source": [
    "#dropping the schedule date, appintment date columns \n",
    "df.drop(['AppointmentDay', \"ScheduledDay\"], axis=1, inplace=True)"
   ]
  },
  {
   "cell_type": "code",
   "execution_count": 260,
   "metadata": {},
   "outputs": [
    {
     "data": {
      "text/html": [
       "<div>\n",
       "<style scoped>\n",
       "    .dataframe tbody tr th:only-of-type {\n",
       "        vertical-align: middle;\n",
       "    }\n",
       "\n",
       "    .dataframe tbody tr th {\n",
       "        vertical-align: top;\n",
       "    }\n",
       "\n",
       "    .dataframe thead th {\n",
       "        text-align: right;\n",
       "    }\n",
       "</style>\n",
       "<table border=\"1\" class=\"dataframe\">\n",
       "  <thead>\n",
       "    <tr style=\"text-align: right;\">\n",
       "      <th></th>\n",
       "      <th>PatientId</th>\n",
       "      <th>AppointmentID</th>\n",
       "      <th>Gender</th>\n",
       "      <th>Age</th>\n",
       "      <th>Neighbourhood</th>\n",
       "      <th>Scholarship</th>\n",
       "      <th>Hipertension</th>\n",
       "      <th>Diabetes</th>\n",
       "      <th>Alcoholism</th>\n",
       "      <th>Handcap</th>\n",
       "      <th>SMS_received</th>\n",
       "      <th>No-show</th>\n",
       "    </tr>\n",
       "  </thead>\n",
       "  <tbody>\n",
       "    <tr>\n",
       "      <th>0</th>\n",
       "      <td>2.987250e+13</td>\n",
       "      <td>5642903</td>\n",
       "      <td>F</td>\n",
       "      <td>62</td>\n",
       "      <td>JARDIM DA PENHA</td>\n",
       "      <td>0</td>\n",
       "      <td>1</td>\n",
       "      <td>0</td>\n",
       "      <td>0</td>\n",
       "      <td>0</td>\n",
       "      <td>0</td>\n",
       "      <td>No</td>\n",
       "    </tr>\n",
       "    <tr>\n",
       "      <th>1</th>\n",
       "      <td>5.589978e+14</td>\n",
       "      <td>5642503</td>\n",
       "      <td>M</td>\n",
       "      <td>56</td>\n",
       "      <td>JARDIM DA PENHA</td>\n",
       "      <td>0</td>\n",
       "      <td>0</td>\n",
       "      <td>0</td>\n",
       "      <td>0</td>\n",
       "      <td>0</td>\n",
       "      <td>0</td>\n",
       "      <td>No</td>\n",
       "    </tr>\n",
       "    <tr>\n",
       "      <th>2</th>\n",
       "      <td>4.262962e+12</td>\n",
       "      <td>5642549</td>\n",
       "      <td>F</td>\n",
       "      <td>62</td>\n",
       "      <td>MATA DA PRAIA</td>\n",
       "      <td>0</td>\n",
       "      <td>0</td>\n",
       "      <td>0</td>\n",
       "      <td>0</td>\n",
       "      <td>0</td>\n",
       "      <td>0</td>\n",
       "      <td>No</td>\n",
       "    </tr>\n",
       "    <tr>\n",
       "      <th>3</th>\n",
       "      <td>8.679512e+11</td>\n",
       "      <td>5642828</td>\n",
       "      <td>F</td>\n",
       "      <td>8</td>\n",
       "      <td>PONTAL DE CAMBURI</td>\n",
       "      <td>0</td>\n",
       "      <td>0</td>\n",
       "      <td>0</td>\n",
       "      <td>0</td>\n",
       "      <td>0</td>\n",
       "      <td>0</td>\n",
       "      <td>No</td>\n",
       "    </tr>\n",
       "    <tr>\n",
       "      <th>4</th>\n",
       "      <td>8.841186e+12</td>\n",
       "      <td>5642494</td>\n",
       "      <td>F</td>\n",
       "      <td>56</td>\n",
       "      <td>JARDIM DA PENHA</td>\n",
       "      <td>0</td>\n",
       "      <td>1</td>\n",
       "      <td>1</td>\n",
       "      <td>0</td>\n",
       "      <td>0</td>\n",
       "      <td>0</td>\n",
       "      <td>No</td>\n",
       "    </tr>\n",
       "  </tbody>\n",
       "</table>\n",
       "</div>"
      ],
      "text/plain": [
       "      PatientId  AppointmentID Gender  Age      Neighbourhood  Scholarship  \\\n",
       "0  2.987250e+13        5642903      F   62    JARDIM DA PENHA            0   \n",
       "1  5.589978e+14        5642503      M   56    JARDIM DA PENHA            0   \n",
       "2  4.262962e+12        5642549      F   62      MATA DA PRAIA            0   \n",
       "3  8.679512e+11        5642828      F    8  PONTAL DE CAMBURI            0   \n",
       "4  8.841186e+12        5642494      F   56    JARDIM DA PENHA            0   \n",
       "\n",
       "   Hipertension  Diabetes  Alcoholism  Handcap  SMS_received No-show  \n",
       "0             1         0           0        0             0      No  \n",
       "1             0         0           0        0             0      No  \n",
       "2             0         0           0        0             0      No  \n",
       "3             0         0           0        0             0      No  \n",
       "4             1         1           0        0             0      No  "
      ]
     },
     "execution_count": 260,
     "metadata": {},
     "output_type": "execute_result"
    }
   ],
   "source": [
    "#inspecting if our drop function worked\n",
    "df.head()"
   ]
  },
  {
   "cell_type": "code",
   "execution_count": 261,
   "metadata": {},
   "outputs": [
    {
     "data": {
      "text/plain": [
       "No     88208\n",
       "Yes    22319\n",
       "Name: No-show, dtype: int64"
      ]
     },
     "execution_count": 261,
     "metadata": {},
     "output_type": "execute_result"
    }
   ],
   "source": [
    "df['No-show'].value_counts()"
   ]
  },
  {
   "cell_type": "markdown",
   "metadata": {},
   "source": [
    "#### Reassigning No-show values"
   ]
  },
  {
   "cell_type": "code",
   "execution_count": 262,
   "metadata": {},
   "outputs": [],
   "source": [
    "#changing No to 0 using a for loop\n",
    "for z in df.index:\n",
    "    if df.loc[z, \"No-show\"] == 'No':\n",
    "        df.loc[z, 'No-show'] = 0\n",
    "    \n",
    "    \n"
   ]
  },
  {
   "cell_type": "code",
   "execution_count": 263,
   "metadata": {},
   "outputs": [
    {
     "data": {
      "text/html": [
       "<div>\n",
       "<style scoped>\n",
       "    .dataframe tbody tr th:only-of-type {\n",
       "        vertical-align: middle;\n",
       "    }\n",
       "\n",
       "    .dataframe tbody tr th {\n",
       "        vertical-align: top;\n",
       "    }\n",
       "\n",
       "    .dataframe thead th {\n",
       "        text-align: right;\n",
       "    }\n",
       "</style>\n",
       "<table border=\"1\" class=\"dataframe\">\n",
       "  <thead>\n",
       "    <tr style=\"text-align: right;\">\n",
       "      <th></th>\n",
       "      <th>PatientId</th>\n",
       "      <th>AppointmentID</th>\n",
       "      <th>Gender</th>\n",
       "      <th>Age</th>\n",
       "      <th>Neighbourhood</th>\n",
       "      <th>Scholarship</th>\n",
       "      <th>Hipertension</th>\n",
       "      <th>Diabetes</th>\n",
       "      <th>Alcoholism</th>\n",
       "      <th>Handcap</th>\n",
       "      <th>SMS_received</th>\n",
       "      <th>No-show</th>\n",
       "    </tr>\n",
       "  </thead>\n",
       "  <tbody>\n",
       "    <tr>\n",
       "      <th>0</th>\n",
       "      <td>2.987250e+13</td>\n",
       "      <td>5642903</td>\n",
       "      <td>F</td>\n",
       "      <td>62</td>\n",
       "      <td>JARDIM DA PENHA</td>\n",
       "      <td>0</td>\n",
       "      <td>1</td>\n",
       "      <td>0</td>\n",
       "      <td>0</td>\n",
       "      <td>0</td>\n",
       "      <td>0</td>\n",
       "      <td>0</td>\n",
       "    </tr>\n",
       "    <tr>\n",
       "      <th>1</th>\n",
       "      <td>5.589978e+14</td>\n",
       "      <td>5642503</td>\n",
       "      <td>M</td>\n",
       "      <td>56</td>\n",
       "      <td>JARDIM DA PENHA</td>\n",
       "      <td>0</td>\n",
       "      <td>0</td>\n",
       "      <td>0</td>\n",
       "      <td>0</td>\n",
       "      <td>0</td>\n",
       "      <td>0</td>\n",
       "      <td>0</td>\n",
       "    </tr>\n",
       "    <tr>\n",
       "      <th>2</th>\n",
       "      <td>4.262962e+12</td>\n",
       "      <td>5642549</td>\n",
       "      <td>F</td>\n",
       "      <td>62</td>\n",
       "      <td>MATA DA PRAIA</td>\n",
       "      <td>0</td>\n",
       "      <td>0</td>\n",
       "      <td>0</td>\n",
       "      <td>0</td>\n",
       "      <td>0</td>\n",
       "      <td>0</td>\n",
       "      <td>0</td>\n",
       "    </tr>\n",
       "    <tr>\n",
       "      <th>3</th>\n",
       "      <td>8.679512e+11</td>\n",
       "      <td>5642828</td>\n",
       "      <td>F</td>\n",
       "      <td>8</td>\n",
       "      <td>PONTAL DE CAMBURI</td>\n",
       "      <td>0</td>\n",
       "      <td>0</td>\n",
       "      <td>0</td>\n",
       "      <td>0</td>\n",
       "      <td>0</td>\n",
       "      <td>0</td>\n",
       "      <td>0</td>\n",
       "    </tr>\n",
       "    <tr>\n",
       "      <th>4</th>\n",
       "      <td>8.841186e+12</td>\n",
       "      <td>5642494</td>\n",
       "      <td>F</td>\n",
       "      <td>56</td>\n",
       "      <td>JARDIM DA PENHA</td>\n",
       "      <td>0</td>\n",
       "      <td>1</td>\n",
       "      <td>1</td>\n",
       "      <td>0</td>\n",
       "      <td>0</td>\n",
       "      <td>0</td>\n",
       "      <td>0</td>\n",
       "    </tr>\n",
       "    <tr>\n",
       "      <th>...</th>\n",
       "      <td>...</td>\n",
       "      <td>...</td>\n",
       "      <td>...</td>\n",
       "      <td>...</td>\n",
       "      <td>...</td>\n",
       "      <td>...</td>\n",
       "      <td>...</td>\n",
       "      <td>...</td>\n",
       "      <td>...</td>\n",
       "      <td>...</td>\n",
       "      <td>...</td>\n",
       "      <td>...</td>\n",
       "    </tr>\n",
       "    <tr>\n",
       "      <th>75</th>\n",
       "      <td>1.488942e+11</td>\n",
       "      <td>5597632</td>\n",
       "      <td>F</td>\n",
       "      <td>60</td>\n",
       "      <td>JABOUR</td>\n",
       "      <td>0</td>\n",
       "      <td>0</td>\n",
       "      <td>0</td>\n",
       "      <td>0</td>\n",
       "      <td>0</td>\n",
       "      <td>0</td>\n",
       "      <td>0</td>\n",
       "    </tr>\n",
       "    <tr>\n",
       "      <th>76</th>\n",
       "      <td>6.549277e+12</td>\n",
       "      <td>5597643</td>\n",
       "      <td>M</td>\n",
       "      <td>28</td>\n",
       "      <td>ANTÔNIO HONÓRIO</td>\n",
       "      <td>0</td>\n",
       "      <td>0</td>\n",
       "      <td>0</td>\n",
       "      <td>0</td>\n",
       "      <td>0</td>\n",
       "      <td>0</td>\n",
       "      <td>Yes</td>\n",
       "    </tr>\n",
       "    <tr>\n",
       "      <th>77</th>\n",
       "      <td>5.753721e+12</td>\n",
       "      <td>5642767</td>\n",
       "      <td>F</td>\n",
       "      <td>27</td>\n",
       "      <td>JABOUR</td>\n",
       "      <td>0</td>\n",
       "      <td>0</td>\n",
       "      <td>0</td>\n",
       "      <td>0</td>\n",
       "      <td>0</td>\n",
       "      <td>0</td>\n",
       "      <td>0</td>\n",
       "    </tr>\n",
       "    <tr>\n",
       "      <th>78</th>\n",
       "      <td>6.259265e+11</td>\n",
       "      <td>5597672</td>\n",
       "      <td>M</td>\n",
       "      <td>21</td>\n",
       "      <td>MARIA ORTIZ</td>\n",
       "      <td>0</td>\n",
       "      <td>0</td>\n",
       "      <td>0</td>\n",
       "      <td>0</td>\n",
       "      <td>0</td>\n",
       "      <td>1</td>\n",
       "      <td>0</td>\n",
       "    </tr>\n",
       "    <tr>\n",
       "      <th>79</th>\n",
       "      <td>9.912882e+13</td>\n",
       "      <td>5597673</td>\n",
       "      <td>M</td>\n",
       "      <td>67</td>\n",
       "      <td>MARIA ORTIZ</td>\n",
       "      <td>0</td>\n",
       "      <td>0</td>\n",
       "      <td>0</td>\n",
       "      <td>0</td>\n",
       "      <td>0</td>\n",
       "      <td>1</td>\n",
       "      <td>Yes</td>\n",
       "    </tr>\n",
       "  </tbody>\n",
       "</table>\n",
       "<p>80 rows × 12 columns</p>\n",
       "</div>"
      ],
      "text/plain": [
       "       PatientId  AppointmentID Gender  Age      Neighbourhood  Scholarship  \\\n",
       "0   2.987250e+13        5642903      F   62    JARDIM DA PENHA            0   \n",
       "1   5.589978e+14        5642503      M   56    JARDIM DA PENHA            0   \n",
       "2   4.262962e+12        5642549      F   62      MATA DA PRAIA            0   \n",
       "3   8.679512e+11        5642828      F    8  PONTAL DE CAMBURI            0   \n",
       "4   8.841186e+12        5642494      F   56    JARDIM DA PENHA            0   \n",
       "..           ...            ...    ...  ...                ...          ...   \n",
       "75  1.488942e+11        5597632      F   60             JABOUR            0   \n",
       "76  6.549277e+12        5597643      M   28    ANTÔNIO HONÓRIO            0   \n",
       "77  5.753721e+12        5642767      F   27             JABOUR            0   \n",
       "78  6.259265e+11        5597672      M   21        MARIA ORTIZ            0   \n",
       "79  9.912882e+13        5597673      M   67        MARIA ORTIZ            0   \n",
       "\n",
       "    Hipertension  Diabetes  Alcoholism  Handcap  SMS_received No-show  \n",
       "0              1         0           0        0             0       0  \n",
       "1              0         0           0        0             0       0  \n",
       "2              0         0           0        0             0       0  \n",
       "3              0         0           0        0             0       0  \n",
       "4              1         1           0        0             0       0  \n",
       "..           ...       ...         ...      ...           ...     ...  \n",
       "75             0         0           0        0             0       0  \n",
       "76             0         0           0        0             0     Yes  \n",
       "77             0         0           0        0             0       0  \n",
       "78             0         0           0        0             1       0  \n",
       "79             0         0           0        0             1     Yes  \n",
       "\n",
       "[80 rows x 12 columns]"
      ]
     },
     "execution_count": 263,
     "metadata": {},
     "output_type": "execute_result"
    }
   ],
   "source": [
    "df.head(80)"
   ]
  },
  {
   "cell_type": "code",
   "execution_count": 264,
   "metadata": {},
   "outputs": [],
   "source": [
    "#changing Yes to 1s \n",
    "for x in df.index:\n",
    "    if df.loc[x, \"No-show\"] == 'Yes':\n",
    "        df.loc[x, 'No-show'] = 1"
   ]
  },
  {
   "cell_type": "markdown",
   "metadata": {},
   "source": [
    "We have changed the No-show values to 0 and 1. if it was No it was assigned 0 and a Yes was changed to 1. This was done so that the data type could match the some of the columns with true or false information."
   ]
  },
  {
   "cell_type": "code",
   "execution_count": 265,
   "metadata": {},
   "outputs": [
    {
     "data": {
      "text/plain": [
       "0    88208\n",
       "1    22319\n",
       "Name: No-show, dtype: int64"
      ]
     },
     "execution_count": 265,
     "metadata": {},
     "output_type": "execute_result"
    }
   ],
   "source": [
    "#need to check if no vlaues were lost durig the  reassigning process\n",
    "df['No-show'].value_counts()"
   ]
  },
  {
   "cell_type": "markdown",
   "metadata": {},
   "source": []
  },
  {
   "cell_type": "code",
   "execution_count": 266,
   "metadata": {},
   "outputs": [],
   "source": [
    "#renaming the No-show cloumn \n",
    "df.rename(columns = {'No-show' : 'No_show'}, inplace=True)"
   ]
  },
  {
   "cell_type": "markdown",
   "metadata": {},
   "source": [
    "#### Renaming the No-Show column to No_show\n",
    "\n",
    "Had to change the data type in the no-show to 0 and 1 (falrse or true). For No we made it 0 and for Yes we changed it to a 1. this is to make the rest of the dat easy to analyse since more columns are true or false."
   ]
  },
  {
   "cell_type": "code",
   "execution_count": 267,
   "metadata": {},
   "outputs": [
    {
     "data": {
      "text/html": [
       "<div>\n",
       "<style scoped>\n",
       "    .dataframe tbody tr th:only-of-type {\n",
       "        vertical-align: middle;\n",
       "    }\n",
       "\n",
       "    .dataframe tbody tr th {\n",
       "        vertical-align: top;\n",
       "    }\n",
       "\n",
       "    .dataframe thead th {\n",
       "        text-align: right;\n",
       "    }\n",
       "</style>\n",
       "<table border=\"1\" class=\"dataframe\">\n",
       "  <thead>\n",
       "    <tr style=\"text-align: right;\">\n",
       "      <th></th>\n",
       "      <th>PatientId</th>\n",
       "      <th>AppointmentID</th>\n",
       "      <th>Gender</th>\n",
       "      <th>Age</th>\n",
       "      <th>Neighbourhood</th>\n",
       "      <th>Scholarship</th>\n",
       "      <th>Hipertension</th>\n",
       "      <th>Diabetes</th>\n",
       "      <th>Alcoholism</th>\n",
       "      <th>Handcap</th>\n",
       "      <th>SMS_received</th>\n",
       "      <th>No_show</th>\n",
       "    </tr>\n",
       "  </thead>\n",
       "  <tbody>\n",
       "    <tr>\n",
       "      <th>0</th>\n",
       "      <td>2.987250e+13</td>\n",
       "      <td>5642903</td>\n",
       "      <td>F</td>\n",
       "      <td>62</td>\n",
       "      <td>JARDIM DA PENHA</td>\n",
       "      <td>0</td>\n",
       "      <td>1</td>\n",
       "      <td>0</td>\n",
       "      <td>0</td>\n",
       "      <td>0</td>\n",
       "      <td>0</td>\n",
       "      <td>0</td>\n",
       "    </tr>\n",
       "    <tr>\n",
       "      <th>1</th>\n",
       "      <td>5.589978e+14</td>\n",
       "      <td>5642503</td>\n",
       "      <td>M</td>\n",
       "      <td>56</td>\n",
       "      <td>JARDIM DA PENHA</td>\n",
       "      <td>0</td>\n",
       "      <td>0</td>\n",
       "      <td>0</td>\n",
       "      <td>0</td>\n",
       "      <td>0</td>\n",
       "      <td>0</td>\n",
       "      <td>0</td>\n",
       "    </tr>\n",
       "    <tr>\n",
       "      <th>2</th>\n",
       "      <td>4.262962e+12</td>\n",
       "      <td>5642549</td>\n",
       "      <td>F</td>\n",
       "      <td>62</td>\n",
       "      <td>MATA DA PRAIA</td>\n",
       "      <td>0</td>\n",
       "      <td>0</td>\n",
       "      <td>0</td>\n",
       "      <td>0</td>\n",
       "      <td>0</td>\n",
       "      <td>0</td>\n",
       "      <td>0</td>\n",
       "    </tr>\n",
       "    <tr>\n",
       "      <th>3</th>\n",
       "      <td>8.679512e+11</td>\n",
       "      <td>5642828</td>\n",
       "      <td>F</td>\n",
       "      <td>8</td>\n",
       "      <td>PONTAL DE CAMBURI</td>\n",
       "      <td>0</td>\n",
       "      <td>0</td>\n",
       "      <td>0</td>\n",
       "      <td>0</td>\n",
       "      <td>0</td>\n",
       "      <td>0</td>\n",
       "      <td>0</td>\n",
       "    </tr>\n",
       "    <tr>\n",
       "      <th>4</th>\n",
       "      <td>8.841186e+12</td>\n",
       "      <td>5642494</td>\n",
       "      <td>F</td>\n",
       "      <td>56</td>\n",
       "      <td>JARDIM DA PENHA</td>\n",
       "      <td>0</td>\n",
       "      <td>1</td>\n",
       "      <td>1</td>\n",
       "      <td>0</td>\n",
       "      <td>0</td>\n",
       "      <td>0</td>\n",
       "      <td>0</td>\n",
       "    </tr>\n",
       "    <tr>\n",
       "      <th>...</th>\n",
       "      <td>...</td>\n",
       "      <td>...</td>\n",
       "      <td>...</td>\n",
       "      <td>...</td>\n",
       "      <td>...</td>\n",
       "      <td>...</td>\n",
       "      <td>...</td>\n",
       "      <td>...</td>\n",
       "      <td>...</td>\n",
       "      <td>...</td>\n",
       "      <td>...</td>\n",
       "      <td>...</td>\n",
       "    </tr>\n",
       "    <tr>\n",
       "      <th>75</th>\n",
       "      <td>1.488942e+11</td>\n",
       "      <td>5597632</td>\n",
       "      <td>F</td>\n",
       "      <td>60</td>\n",
       "      <td>JABOUR</td>\n",
       "      <td>0</td>\n",
       "      <td>0</td>\n",
       "      <td>0</td>\n",
       "      <td>0</td>\n",
       "      <td>0</td>\n",
       "      <td>0</td>\n",
       "      <td>0</td>\n",
       "    </tr>\n",
       "    <tr>\n",
       "      <th>76</th>\n",
       "      <td>6.549277e+12</td>\n",
       "      <td>5597643</td>\n",
       "      <td>M</td>\n",
       "      <td>28</td>\n",
       "      <td>ANTÔNIO HONÓRIO</td>\n",
       "      <td>0</td>\n",
       "      <td>0</td>\n",
       "      <td>0</td>\n",
       "      <td>0</td>\n",
       "      <td>0</td>\n",
       "      <td>0</td>\n",
       "      <td>1</td>\n",
       "    </tr>\n",
       "    <tr>\n",
       "      <th>77</th>\n",
       "      <td>5.753721e+12</td>\n",
       "      <td>5642767</td>\n",
       "      <td>F</td>\n",
       "      <td>27</td>\n",
       "      <td>JABOUR</td>\n",
       "      <td>0</td>\n",
       "      <td>0</td>\n",
       "      <td>0</td>\n",
       "      <td>0</td>\n",
       "      <td>0</td>\n",
       "      <td>0</td>\n",
       "      <td>0</td>\n",
       "    </tr>\n",
       "    <tr>\n",
       "      <th>78</th>\n",
       "      <td>6.259265e+11</td>\n",
       "      <td>5597672</td>\n",
       "      <td>M</td>\n",
       "      <td>21</td>\n",
       "      <td>MARIA ORTIZ</td>\n",
       "      <td>0</td>\n",
       "      <td>0</td>\n",
       "      <td>0</td>\n",
       "      <td>0</td>\n",
       "      <td>0</td>\n",
       "      <td>1</td>\n",
       "      <td>0</td>\n",
       "    </tr>\n",
       "    <tr>\n",
       "      <th>79</th>\n",
       "      <td>9.912882e+13</td>\n",
       "      <td>5597673</td>\n",
       "      <td>M</td>\n",
       "      <td>67</td>\n",
       "      <td>MARIA ORTIZ</td>\n",
       "      <td>0</td>\n",
       "      <td>0</td>\n",
       "      <td>0</td>\n",
       "      <td>0</td>\n",
       "      <td>0</td>\n",
       "      <td>1</td>\n",
       "      <td>1</td>\n",
       "    </tr>\n",
       "  </tbody>\n",
       "</table>\n",
       "<p>80 rows × 12 columns</p>\n",
       "</div>"
      ],
      "text/plain": [
       "       PatientId  AppointmentID Gender  Age      Neighbourhood  Scholarship  \\\n",
       "0   2.987250e+13        5642903      F   62    JARDIM DA PENHA            0   \n",
       "1   5.589978e+14        5642503      M   56    JARDIM DA PENHA            0   \n",
       "2   4.262962e+12        5642549      F   62      MATA DA PRAIA            0   \n",
       "3   8.679512e+11        5642828      F    8  PONTAL DE CAMBURI            0   \n",
       "4   8.841186e+12        5642494      F   56    JARDIM DA PENHA            0   \n",
       "..           ...            ...    ...  ...                ...          ...   \n",
       "75  1.488942e+11        5597632      F   60             JABOUR            0   \n",
       "76  6.549277e+12        5597643      M   28    ANTÔNIO HONÓRIO            0   \n",
       "77  5.753721e+12        5642767      F   27             JABOUR            0   \n",
       "78  6.259265e+11        5597672      M   21        MARIA ORTIZ            0   \n",
       "79  9.912882e+13        5597673      M   67        MARIA ORTIZ            0   \n",
       "\n",
       "    Hipertension  Diabetes  Alcoholism  Handcap  SMS_received No_show  \n",
       "0              1         0           0        0             0       0  \n",
       "1              0         0           0        0             0       0  \n",
       "2              0         0           0        0             0       0  \n",
       "3              0         0           0        0             0       0  \n",
       "4              1         1           0        0             0       0  \n",
       "..           ...       ...         ...      ...           ...     ...  \n",
       "75             0         0           0        0             0       0  \n",
       "76             0         0           0        0             0       1  \n",
       "77             0         0           0        0             0       0  \n",
       "78             0         0           0        0             1       0  \n",
       "79             0         0           0        0             1       1  \n",
       "\n",
       "[80 rows x 12 columns]"
      ]
     },
     "execution_count": 267,
     "metadata": {},
     "output_type": "execute_result"
    }
   ],
   "source": [
    "#checking if our reanme function worked\n",
    "df.head(80)"
   ]
  },
  {
   "cell_type": "markdown",
   "metadata": {},
   "source": [
    "<a id='eda'></a>\n",
    "## Exploratory Data Analysis\n",
    "\n",
    "\n",
    "\n",
    "\n"
   ]
  },
  {
   "cell_type": "code",
   "execution_count": 268,
   "metadata": {},
   "outputs": [
    {
     "data": {
      "text/html": [
       "<div>\n",
       "<style scoped>\n",
       "    .dataframe tbody tr th:only-of-type {\n",
       "        vertical-align: middle;\n",
       "    }\n",
       "\n",
       "    .dataframe tbody tr th {\n",
       "        vertical-align: top;\n",
       "    }\n",
       "\n",
       "    .dataframe thead th {\n",
       "        text-align: right;\n",
       "    }\n",
       "</style>\n",
       "<table border=\"1\" class=\"dataframe\">\n",
       "  <thead>\n",
       "    <tr style=\"text-align: right;\">\n",
       "      <th></th>\n",
       "      <th>PatientId</th>\n",
       "      <th>AppointmentID</th>\n",
       "      <th>Gender</th>\n",
       "      <th>Age</th>\n",
       "      <th>Neighbourhood</th>\n",
       "      <th>Scholarship</th>\n",
       "      <th>Hipertension</th>\n",
       "      <th>Diabetes</th>\n",
       "      <th>Alcoholism</th>\n",
       "      <th>Handcap</th>\n",
       "      <th>SMS_received</th>\n",
       "      <th>No_show</th>\n",
       "    </tr>\n",
       "  </thead>\n",
       "  <tbody>\n",
       "    <tr>\n",
       "      <th>0</th>\n",
       "      <td>2.987250e+13</td>\n",
       "      <td>5642903</td>\n",
       "      <td>F</td>\n",
       "      <td>62</td>\n",
       "      <td>JARDIM DA PENHA</td>\n",
       "      <td>0</td>\n",
       "      <td>1</td>\n",
       "      <td>0</td>\n",
       "      <td>0</td>\n",
       "      <td>0</td>\n",
       "      <td>0</td>\n",
       "      <td>0</td>\n",
       "    </tr>\n",
       "    <tr>\n",
       "      <th>1</th>\n",
       "      <td>5.589978e+14</td>\n",
       "      <td>5642503</td>\n",
       "      <td>M</td>\n",
       "      <td>56</td>\n",
       "      <td>JARDIM DA PENHA</td>\n",
       "      <td>0</td>\n",
       "      <td>0</td>\n",
       "      <td>0</td>\n",
       "      <td>0</td>\n",
       "      <td>0</td>\n",
       "      <td>0</td>\n",
       "      <td>0</td>\n",
       "    </tr>\n",
       "    <tr>\n",
       "      <th>2</th>\n",
       "      <td>4.262962e+12</td>\n",
       "      <td>5642549</td>\n",
       "      <td>F</td>\n",
       "      <td>62</td>\n",
       "      <td>MATA DA PRAIA</td>\n",
       "      <td>0</td>\n",
       "      <td>0</td>\n",
       "      <td>0</td>\n",
       "      <td>0</td>\n",
       "      <td>0</td>\n",
       "      <td>0</td>\n",
       "      <td>0</td>\n",
       "    </tr>\n",
       "    <tr>\n",
       "      <th>3</th>\n",
       "      <td>8.679512e+11</td>\n",
       "      <td>5642828</td>\n",
       "      <td>F</td>\n",
       "      <td>8</td>\n",
       "      <td>PONTAL DE CAMBURI</td>\n",
       "      <td>0</td>\n",
       "      <td>0</td>\n",
       "      <td>0</td>\n",
       "      <td>0</td>\n",
       "      <td>0</td>\n",
       "      <td>0</td>\n",
       "      <td>0</td>\n",
       "    </tr>\n",
       "    <tr>\n",
       "      <th>4</th>\n",
       "      <td>8.841186e+12</td>\n",
       "      <td>5642494</td>\n",
       "      <td>F</td>\n",
       "      <td>56</td>\n",
       "      <td>JARDIM DA PENHA</td>\n",
       "      <td>0</td>\n",
       "      <td>1</td>\n",
       "      <td>1</td>\n",
       "      <td>0</td>\n",
       "      <td>0</td>\n",
       "      <td>0</td>\n",
       "      <td>0</td>\n",
       "    </tr>\n",
       "    <tr>\n",
       "      <th>...</th>\n",
       "      <td>...</td>\n",
       "      <td>...</td>\n",
       "      <td>...</td>\n",
       "      <td>...</td>\n",
       "      <td>...</td>\n",
       "      <td>...</td>\n",
       "      <td>...</td>\n",
       "      <td>...</td>\n",
       "      <td>...</td>\n",
       "      <td>...</td>\n",
       "      <td>...</td>\n",
       "      <td>...</td>\n",
       "    </tr>\n",
       "    <tr>\n",
       "      <th>110522</th>\n",
       "      <td>2.572134e+12</td>\n",
       "      <td>5651768</td>\n",
       "      <td>F</td>\n",
       "      <td>56</td>\n",
       "      <td>MARIA ORTIZ</td>\n",
       "      <td>0</td>\n",
       "      <td>0</td>\n",
       "      <td>0</td>\n",
       "      <td>0</td>\n",
       "      <td>0</td>\n",
       "      <td>1</td>\n",
       "      <td>0</td>\n",
       "    </tr>\n",
       "    <tr>\n",
       "      <th>110523</th>\n",
       "      <td>3.596266e+12</td>\n",
       "      <td>5650093</td>\n",
       "      <td>F</td>\n",
       "      <td>51</td>\n",
       "      <td>MARIA ORTIZ</td>\n",
       "      <td>0</td>\n",
       "      <td>0</td>\n",
       "      <td>0</td>\n",
       "      <td>0</td>\n",
       "      <td>0</td>\n",
       "      <td>1</td>\n",
       "      <td>0</td>\n",
       "    </tr>\n",
       "    <tr>\n",
       "      <th>110524</th>\n",
       "      <td>1.557663e+13</td>\n",
       "      <td>5630692</td>\n",
       "      <td>F</td>\n",
       "      <td>21</td>\n",
       "      <td>MARIA ORTIZ</td>\n",
       "      <td>0</td>\n",
       "      <td>0</td>\n",
       "      <td>0</td>\n",
       "      <td>0</td>\n",
       "      <td>0</td>\n",
       "      <td>1</td>\n",
       "      <td>0</td>\n",
       "    </tr>\n",
       "    <tr>\n",
       "      <th>110525</th>\n",
       "      <td>9.213493e+13</td>\n",
       "      <td>5630323</td>\n",
       "      <td>F</td>\n",
       "      <td>38</td>\n",
       "      <td>MARIA ORTIZ</td>\n",
       "      <td>0</td>\n",
       "      <td>0</td>\n",
       "      <td>0</td>\n",
       "      <td>0</td>\n",
       "      <td>0</td>\n",
       "      <td>1</td>\n",
       "      <td>0</td>\n",
       "    </tr>\n",
       "    <tr>\n",
       "      <th>110526</th>\n",
       "      <td>3.775115e+14</td>\n",
       "      <td>5629448</td>\n",
       "      <td>F</td>\n",
       "      <td>54</td>\n",
       "      <td>MARIA ORTIZ</td>\n",
       "      <td>0</td>\n",
       "      <td>0</td>\n",
       "      <td>0</td>\n",
       "      <td>0</td>\n",
       "      <td>0</td>\n",
       "      <td>1</td>\n",
       "      <td>0</td>\n",
       "    </tr>\n",
       "  </tbody>\n",
       "</table>\n",
       "<p>88208 rows × 12 columns</p>\n",
       "</div>"
      ],
      "text/plain": [
       "           PatientId  AppointmentID Gender  Age      Neighbourhood  \\\n",
       "0       2.987250e+13        5642903      F   62    JARDIM DA PENHA   \n",
       "1       5.589978e+14        5642503      M   56    JARDIM DA PENHA   \n",
       "2       4.262962e+12        5642549      F   62      MATA DA PRAIA   \n",
       "3       8.679512e+11        5642828      F    8  PONTAL DE CAMBURI   \n",
       "4       8.841186e+12        5642494      F   56    JARDIM DA PENHA   \n",
       "...              ...            ...    ...  ...                ...   \n",
       "110522  2.572134e+12        5651768      F   56        MARIA ORTIZ   \n",
       "110523  3.596266e+12        5650093      F   51        MARIA ORTIZ   \n",
       "110524  1.557663e+13        5630692      F   21        MARIA ORTIZ   \n",
       "110525  9.213493e+13        5630323      F   38        MARIA ORTIZ   \n",
       "110526  3.775115e+14        5629448      F   54        MARIA ORTIZ   \n",
       "\n",
       "        Scholarship  Hipertension  Diabetes  Alcoholism  Handcap  \\\n",
       "0                 0             1         0           0        0   \n",
       "1                 0             0         0           0        0   \n",
       "2                 0             0         0           0        0   \n",
       "3                 0             0         0           0        0   \n",
       "4                 0             1         1           0        0   \n",
       "...             ...           ...       ...         ...      ...   \n",
       "110522            0             0         0           0        0   \n",
       "110523            0             0         0           0        0   \n",
       "110524            0             0         0           0        0   \n",
       "110525            0             0         0           0        0   \n",
       "110526            0             0         0           0        0   \n",
       "\n",
       "        SMS_received No_show  \n",
       "0                  0       0  \n",
       "1                  0       0  \n",
       "2                  0       0  \n",
       "3                  0       0  \n",
       "4                  0       0  \n",
       "...              ...     ...  \n",
       "110522             1       0  \n",
       "110523             1       0  \n",
       "110524             1       0  \n",
       "110525             1       0  \n",
       "110526             1       0  \n",
       "\n",
       "[88208 rows x 12 columns]"
      ]
     },
     "execution_count": 268,
     "metadata": {},
     "output_type": "execute_result"
    }
   ],
   "source": [
    "#selecting all the rows that showed up for the appointment\n",
    "showed_up = df.query('No_show == 0')\n",
    "showed_up"
   ]
  },
  {
   "cell_type": "code",
   "execution_count": 269,
   "metadata": {
    "scrolled": false
   },
   "outputs": [
    {
     "data": {
      "text/html": [
       "<div>\n",
       "<style scoped>\n",
       "    .dataframe tbody tr th:only-of-type {\n",
       "        vertical-align: middle;\n",
       "    }\n",
       "\n",
       "    .dataframe tbody tr th {\n",
       "        vertical-align: top;\n",
       "    }\n",
       "\n",
       "    .dataframe thead th {\n",
       "        text-align: right;\n",
       "    }\n",
       "</style>\n",
       "<table border=\"1\" class=\"dataframe\">\n",
       "  <thead>\n",
       "    <tr style=\"text-align: right;\">\n",
       "      <th></th>\n",
       "      <th>PatientId</th>\n",
       "      <th>AppointmentID</th>\n",
       "      <th>Gender</th>\n",
       "      <th>Age</th>\n",
       "      <th>Neighbourhood</th>\n",
       "      <th>Scholarship</th>\n",
       "      <th>Hipertension</th>\n",
       "      <th>Diabetes</th>\n",
       "      <th>Alcoholism</th>\n",
       "      <th>Handcap</th>\n",
       "      <th>SMS_received</th>\n",
       "      <th>No_show</th>\n",
       "    </tr>\n",
       "  </thead>\n",
       "  <tbody>\n",
       "    <tr>\n",
       "      <th>6</th>\n",
       "      <td>7.336882e+14</td>\n",
       "      <td>5630279</td>\n",
       "      <td>F</td>\n",
       "      <td>23</td>\n",
       "      <td>GOIABEIRAS</td>\n",
       "      <td>0</td>\n",
       "      <td>0</td>\n",
       "      <td>0</td>\n",
       "      <td>0</td>\n",
       "      <td>0</td>\n",
       "      <td>0</td>\n",
       "      <td>1</td>\n",
       "    </tr>\n",
       "    <tr>\n",
       "      <th>7</th>\n",
       "      <td>3.449833e+12</td>\n",
       "      <td>5630575</td>\n",
       "      <td>F</td>\n",
       "      <td>39</td>\n",
       "      <td>GOIABEIRAS</td>\n",
       "      <td>0</td>\n",
       "      <td>0</td>\n",
       "      <td>0</td>\n",
       "      <td>0</td>\n",
       "      <td>0</td>\n",
       "      <td>0</td>\n",
       "      <td>1</td>\n",
       "    </tr>\n",
       "    <tr>\n",
       "      <th>11</th>\n",
       "      <td>7.542951e+12</td>\n",
       "      <td>5620163</td>\n",
       "      <td>M</td>\n",
       "      <td>29</td>\n",
       "      <td>NOVA PALESTINA</td>\n",
       "      <td>0</td>\n",
       "      <td>0</td>\n",
       "      <td>0</td>\n",
       "      <td>0</td>\n",
       "      <td>0</td>\n",
       "      <td>1</td>\n",
       "      <td>1</td>\n",
       "    </tr>\n",
       "    <tr>\n",
       "      <th>17</th>\n",
       "      <td>1.479497e+13</td>\n",
       "      <td>5633460</td>\n",
       "      <td>F</td>\n",
       "      <td>40</td>\n",
       "      <td>CONQUISTA</td>\n",
       "      <td>1</td>\n",
       "      <td>0</td>\n",
       "      <td>0</td>\n",
       "      <td>0</td>\n",
       "      <td>0</td>\n",
       "      <td>0</td>\n",
       "      <td>1</td>\n",
       "    </tr>\n",
       "    <tr>\n",
       "      <th>20</th>\n",
       "      <td>6.222575e+14</td>\n",
       "      <td>5626083</td>\n",
       "      <td>F</td>\n",
       "      <td>30</td>\n",
       "      <td>NOVA PALESTINA</td>\n",
       "      <td>0</td>\n",
       "      <td>0</td>\n",
       "      <td>0</td>\n",
       "      <td>0</td>\n",
       "      <td>0</td>\n",
       "      <td>0</td>\n",
       "      <td>1</td>\n",
       "    </tr>\n",
       "    <tr>\n",
       "      <th>...</th>\n",
       "      <td>...</td>\n",
       "      <td>...</td>\n",
       "      <td>...</td>\n",
       "      <td>...</td>\n",
       "      <td>...</td>\n",
       "      <td>...</td>\n",
       "      <td>...</td>\n",
       "      <td>...</td>\n",
       "      <td>...</td>\n",
       "      <td>...</td>\n",
       "      <td>...</td>\n",
       "      <td>...</td>\n",
       "    </tr>\n",
       "    <tr>\n",
       "      <th>110484</th>\n",
       "      <td>5.133650e+14</td>\n",
       "      <td>5772155</td>\n",
       "      <td>F</td>\n",
       "      <td>45</td>\n",
       "      <td>BARRO VERMELHO</td>\n",
       "      <td>0</td>\n",
       "      <td>0</td>\n",
       "      <td>0</td>\n",
       "      <td>0</td>\n",
       "      <td>0</td>\n",
       "      <td>0</td>\n",
       "      <td>1</td>\n",
       "    </tr>\n",
       "    <tr>\n",
       "      <th>110492</th>\n",
       "      <td>6.456342e+14</td>\n",
       "      <td>5786741</td>\n",
       "      <td>M</td>\n",
       "      <td>33</td>\n",
       "      <td>MARIA ORTIZ</td>\n",
       "      <td>0</td>\n",
       "      <td>1</td>\n",
       "      <td>0</td>\n",
       "      <td>0</td>\n",
       "      <td>0</td>\n",
       "      <td>0</td>\n",
       "      <td>1</td>\n",
       "    </tr>\n",
       "    <tr>\n",
       "      <th>110496</th>\n",
       "      <td>8.544295e+13</td>\n",
       "      <td>5779046</td>\n",
       "      <td>F</td>\n",
       "      <td>37</td>\n",
       "      <td>MARIA ORTIZ</td>\n",
       "      <td>0</td>\n",
       "      <td>1</td>\n",
       "      <td>0</td>\n",
       "      <td>0</td>\n",
       "      <td>0</td>\n",
       "      <td>0</td>\n",
       "      <td>1</td>\n",
       "    </tr>\n",
       "    <tr>\n",
       "      <th>110515</th>\n",
       "      <td>6.456342e+14</td>\n",
       "      <td>5778621</td>\n",
       "      <td>M</td>\n",
       "      <td>33</td>\n",
       "      <td>MARIA ORTIZ</td>\n",
       "      <td>0</td>\n",
       "      <td>1</td>\n",
       "      <td>0</td>\n",
       "      <td>0</td>\n",
       "      <td>0</td>\n",
       "      <td>0</td>\n",
       "      <td>1</td>\n",
       "    </tr>\n",
       "    <tr>\n",
       "      <th>110516</th>\n",
       "      <td>6.923772e+13</td>\n",
       "      <td>5780205</td>\n",
       "      <td>F</td>\n",
       "      <td>37</td>\n",
       "      <td>MARIA ORTIZ</td>\n",
       "      <td>0</td>\n",
       "      <td>0</td>\n",
       "      <td>0</td>\n",
       "      <td>0</td>\n",
       "      <td>0</td>\n",
       "      <td>0</td>\n",
       "      <td>1</td>\n",
       "    </tr>\n",
       "  </tbody>\n",
       "</table>\n",
       "<p>22319 rows × 12 columns</p>\n",
       "</div>"
      ],
      "text/plain": [
       "           PatientId  AppointmentID Gender  Age   Neighbourhood  Scholarship  \\\n",
       "6       7.336882e+14        5630279      F   23      GOIABEIRAS            0   \n",
       "7       3.449833e+12        5630575      F   39      GOIABEIRAS            0   \n",
       "11      7.542951e+12        5620163      M   29  NOVA PALESTINA            0   \n",
       "17      1.479497e+13        5633460      F   40       CONQUISTA            1   \n",
       "20      6.222575e+14        5626083      F   30  NOVA PALESTINA            0   \n",
       "...              ...            ...    ...  ...             ...          ...   \n",
       "110484  5.133650e+14        5772155      F   45  BARRO VERMELHO            0   \n",
       "110492  6.456342e+14        5786741      M   33     MARIA ORTIZ            0   \n",
       "110496  8.544295e+13        5779046      F   37     MARIA ORTIZ            0   \n",
       "110515  6.456342e+14        5778621      M   33     MARIA ORTIZ            0   \n",
       "110516  6.923772e+13        5780205      F   37     MARIA ORTIZ            0   \n",
       "\n",
       "        Hipertension  Diabetes  Alcoholism  Handcap  SMS_received No_show  \n",
       "6                  0         0           0        0             0       1  \n",
       "7                  0         0           0        0             0       1  \n",
       "11                 0         0           0        0             1       1  \n",
       "17                 0         0           0        0             0       1  \n",
       "20                 0         0           0        0             0       1  \n",
       "...              ...       ...         ...      ...           ...     ...  \n",
       "110484             0         0           0        0             0       1  \n",
       "110492             1         0           0        0             0       1  \n",
       "110496             1         0           0        0             0       1  \n",
       "110515             1         0           0        0             0       1  \n",
       "110516             0         0           0        0             0       1  \n",
       "\n",
       "[22319 rows x 12 columns]"
      ]
     },
     "execution_count": 269,
     "metadata": {},
     "output_type": "execute_result"
    }
   ],
   "source": [
    "#selecting all the rows that didn't showed up for the appointment\n",
    "missed = df.query('No_show == 1')\n",
    "missed"
   ]
  },
  {
   "cell_type": "markdown",
   "metadata": {},
   "source": [
    "#### New Dataframes\n",
    "In the two above cell blocks, the No_show cloumn was made into 2 datasets one showing all the patients that made it to the their appointments **showed up**, and one were the patients missed their appointments **missed**"
   ]
  },
  {
   "cell_type": "code",
   "execution_count": 270,
   "metadata": {},
   "outputs": [
    {
     "data": {
      "text/plain": [
       "22319"
      ]
     },
     "execution_count": 270,
     "metadata": {},
     "output_type": "execute_result"
    }
   ],
   "source": [
    "\n",
    "#getting the total number of patients that missed their appointments\n",
    "tot_mis = missed['No_show'].count()\n",
    "tot_mis"
   ]
  },
  {
   "cell_type": "code",
   "execution_count": 271,
   "metadata": {},
   "outputs": [
    {
     "data": {
      "text/plain": [
       "110527"
      ]
     },
     "execution_count": 271,
     "metadata": {},
     "output_type": "execute_result"
    }
   ],
   "source": [
    "#total number of patients\n",
    "tot = df['No_show'].count()\n",
    "tot"
   ]
  },
  {
   "cell_type": "code",
   "execution_count": 272,
   "metadata": {},
   "outputs": [
    {
     "name": "stdout",
     "output_type": "stream",
     "text": [
      "20.193255946510806 %\n"
     ]
    }
   ],
   "source": [
    "#calculating the percentage of patients that missed their appointments\n",
    "stats_missed = np.divide(tot_mis, tot)\n",
    "perc = np.multiply(stats_missed, 100)\n",
    "\n",
    "print(perc,'%')"
   ]
  },
  {
   "cell_type": "markdown",
   "metadata": {},
   "source": [
    "#### Some stats on the data \n",
    "We can see that **20.2%** of the patients missed their appointments which means the majority of the data 79.8% attended their appointments. From now on we will be investigating which factors give rise to these numbers"
   ]
  },
  {
   "cell_type": "markdown",
   "metadata": {},
   "source": [
    "### Exploring the gender column \n",
    "We would like to see how the data is distributed beatween males and females. whch gender had the highest number of appointments made and if this will lead to that gender having the most no shows."
   ]
  },
  {
   "cell_type": "code",
   "execution_count": 273,
   "metadata": {},
   "outputs": [],
   "source": [
    "df['Gender'] = df.Gender.astype(str)"
   ]
  },
  {
   "cell_type": "code",
   "execution_count": 274,
   "metadata": {
    "scrolled": false
   },
   "outputs": [
    {
     "data": {
      "text/plain": [
       "PatientId        float64\n",
       "AppointmentID      int64\n",
       "Gender            object\n",
       "Age                int64\n",
       "Neighbourhood     object\n",
       "Scholarship        int64\n",
       "Hipertension       int64\n",
       "Diabetes           int64\n",
       "Alcoholism         int64\n",
       "Handcap            int64\n",
       "SMS_received       int64\n",
       "No_show           object\n",
       "dtype: object"
      ]
     },
     "execution_count": 274,
     "metadata": {},
     "output_type": "execute_result"
    }
   ],
   "source": [
    "df.dtypes"
   ]
  },
  {
   "cell_type": "code",
   "execution_count": 275,
   "metadata": {},
   "outputs": [
    {
     "data": {
      "text/plain": [
       "F    71840\n",
       "M    38687\n",
       "Name: Gender, dtype: int64"
      ]
     },
     "execution_count": 275,
     "metadata": {},
     "output_type": "execute_result"
    }
   ],
   "source": [
    "df['Gender'].value_counts()"
   ]
  },
  {
   "cell_type": "code",
   "execution_count": 276,
   "metadata": {},
   "outputs": [],
   "source": [
    "#this is a function that will be used to calulate percentages through out the investigation\n",
    "# it will take it in the counts of the required variable and the total of that variable as parameters\n",
    "\n",
    "def percentage(count,total):\n",
    "    percentages = np.multiply(np.divide(count, total), 100)\n",
    "   \n",
    "    return percentages\n",
    "\n",
    "   \n",
    "    \n"
   ]
  },
  {
   "cell_type": "code",
   "execution_count": 277,
   "metadata": {},
   "outputs": [
    {
     "name": "stdout",
     "output_type": "stream",
     "text": [
      "Percentage of males 35.00230712857492 %\n",
      "Percentage of females 64.99769287142509 %\n"
     ]
    }
   ],
   "source": [
    "#claculating the percentage of men and females that were in the data set \n",
    "\n",
    "males = percentage(38687, 110527)\n",
    "print('Percentage of males', males, '%')\n",
    "\n",
    "females = percentage(71840, 110527)\n",
    "print('Percentage of females', females, '%')\n"
   ]
  },
  {
   "cell_type": "code",
   "execution_count": 278,
   "metadata": {},
   "outputs": [
    {
     "data": {
      "image/png": "[encoded data removed]",
      "text/plain": [
       "<Figure size 432x288 with 1 Axes>"
      ]
     },
     "metadata": {},
     "output_type": "display_data"
    }
   ],
   "source": [
    "#plotting our findings from the above cell on a pie chart to visualise it using matplotlib\n",
    "labels = 'Males', 'Females'\n",
    "sizes =[males,females]\n",
    "explode = (0, 0.08)\n",
    "\n",
    "fig1, px1 = plt.subplots()\n",
    "px1.pie(sizes, explode=explode, labels=labels, autopct='%1.1f%%', shadow=True, startangle=90 )\n",
    "px1.axis('equal')\n",
    "px1.set_title('The percentage of females and males that made an appointment')\n",
    "plt.show()"
   ]
  },
  {
   "cell_type": "markdown",
   "metadata": {},
   "source": [
    "> 65% of the appointments made were made by females thats more compared to the 35% made by males.The above chart shows that there were more females that made appountments, which looks like females take better care of their health than men."
   ]
  },
  {
   "cell_type": "code",
   "execution_count": 279,
   "metadata": {},
   "outputs": [
    {
     "data": {
      "text/plain": [
       "22319"
      ]
     },
     "execution_count": 279,
     "metadata": {},
     "output_type": "execute_result"
    }
   ],
   "source": [
    "#getting the total number of males + females that missed an appointment\n",
    "missed['Gender'].count()"
   ]
  },
  {
   "cell_type": "code",
   "execution_count": 280,
   "metadata": {},
   "outputs": [
    {
     "data": {
      "text/plain": [
       "F    14594\n",
       "M     7725\n",
       "Name: Gender, dtype: int64"
      ]
     },
     "execution_count": 280,
     "metadata": {},
     "output_type": "execute_result"
    }
   ],
   "source": [
    "#getting value counts for feamles and males \n",
    "missed['Gender'].value_counts()"
   ]
  },
  {
   "cell_type": "code",
   "execution_count": 281,
   "metadata": {},
   "outputs": [
    {
     "name": "stdout",
     "output_type": "stream",
     "text": [
      "Percentage of males that missed their appointments 6.989242447546753 %\n",
      "Percentage of females that missed their appointments 13.204013498964054 %\n"
     ]
    }
   ],
   "source": [
    "#calculating the percentage of men that missed their appointments\n",
    "males_x = percentage(7725, 110527)\n",
    "print('Percentage of males that missed their appointments', males_x, '%')\n",
    "#percentage of females that missed their appointments\n",
    "females_x = percentage(14594, 110527)\n",
    "print('Percentage of females that missed their appointments', females_x, '%')"
   ]
  },
  {
   "cell_type": "code",
   "execution_count": 282,
   "metadata": {
    "scrolled": true
   },
   "outputs": [
    {
     "data": {
      "image/png": "[encoded data removed]",
      "text/plain": [
       "<Figure size 432x288 with 1 Axes>"
      ]
     },
     "metadata": {},
     "output_type": "display_data"
    }
   ],
   "source": [
    "#plotting our findings from the above cell on a pie chart to visualise it using matplotlib\n",
    "\n",
    "labels = 'Males', 'Females', 'Total that made it'\n",
    "sizes =[males_x,females_x, 79.807] #79.807 is the percentage of patients that made it to their appointment\n",
    "explode = (0, 0.08, 0)\n",
    "\n",
    "fig1, gx1 = plt.subplots()\n",
    "gx1.pie(sizes, explode=explode, labels=labels, autopct='%1.1f%%', shadow=True, startangle=90 )\n",
    "gx1.axis('equal')\n",
    "\n",
    "gx1.set_title('The percentage of females and males that missed an appointment')\n",
    "\n",
    "gx1.legend(['Males that missed the Appointment','Females that missed the Appointment', 'Total number of males plus females that made it'],\n",
    "          title=\"Propotion of males and females that missed the appointment\",\n",
    "          loc=\"center left\",\n",
    "          bbox_to_anchor=(1, 0, 0.5, 1))\n",
    "\n",
    "\n",
    "plt.show()"
   ]
  },
  {
   "cell_type": "markdown",
   "metadata": {},
   "source": [
    "> More women did miss more appointments than men just by a small margin. Considering that 65% of the patients were females, men are likely to miss more appointments than females."
   ]
  },
  {
   "cell_type": "markdown",
   "metadata": {},
   "source": [
    "### We need to see how many of the appointments made recieved a message notification\n"
   ]
  },
  {
   "cell_type": "code",
   "execution_count": 283,
   "metadata": {},
   "outputs": [
    {
     "data": {
      "text/plain": [
       "PatientId        35482\n",
       "AppointmentID    35482\n",
       "Gender           35482\n",
       "Age              35482\n",
       "Neighbourhood    35482\n",
       "Scholarship      35482\n",
       "Hipertension     35482\n",
       "Diabetes         35482\n",
       "Alcoholism       35482\n",
       "Handcap          35482\n",
       "SMS_received     35482\n",
       "No_show          35482\n",
       "dtype: int64"
      ]
     },
     "execution_count": 283,
     "metadata": {},
     "output_type": "execute_result"
    }
   ],
   "source": [
    "#creating an sms recieved dataset\n",
    "sms = df.query('SMS_received == 1')\n",
    "sms.count()"
   ]
  },
  {
   "cell_type": "code",
   "execution_count": 284,
   "metadata": {},
   "outputs": [
    {
     "data": {
      "text/plain": [
       "PatientId        75045\n",
       "AppointmentID    75045\n",
       "Gender           75045\n",
       "Age              75045\n",
       "Neighbourhood    75045\n",
       "Scholarship      75045\n",
       "Hipertension     75045\n",
       "Diabetes         75045\n",
       "Alcoholism       75045\n",
       "Handcap          75045\n",
       "SMS_received     75045\n",
       "No_show          75045\n",
       "dtype: int64"
      ]
     },
     "execution_count": 284,
     "metadata": {},
     "output_type": "execute_result"
    }
   ],
   "source": [
    "#creating a no sms received dataset\n",
    "no_sms = df.query('SMS_received == 0')\n",
    "no_sms.count()"
   ]
  },
  {
   "cell_type": "code",
   "execution_count": 285,
   "metadata": {
    "scrolled": true
   },
   "outputs": [
    {
     "name": "stdout",
     "output_type": "stream",
     "text": [
      "Percentage of Patients that recieved an sms notification: 32.10256317460892 %\n"
     ]
    }
   ],
   "source": [
    "#calculating the percentage of patients that recieved a notification\n",
    "notification = percentage( 35482,110527 )\n",
    "print('Percentage of Patients that recieved an sms notification:', notification,'%')"
   ]
  },
  {
   "cell_type": "markdown",
   "metadata": {},
   "source": [
    "> The number of patients that received an sms is fairly low (32%) to  the number of patients that actually showed up  for their appointments(79.8%). receiving an sms had no great influnce on who up showed for their appointment."
   ]
  },
  {
   "cell_type": "code",
   "execution_count": 286,
   "metadata": {},
   "outputs": [
    {
     "data": {
      "text/plain": [
       "PatientId        12535\n",
       "AppointmentID    12535\n",
       "Gender           12535\n",
       "Age              12535\n",
       "Neighbourhood    12535\n",
       "Scholarship      12535\n",
       "Hipertension     12535\n",
       "Diabetes         12535\n",
       "Alcoholism       12535\n",
       "Handcap          12535\n",
       "SMS_received     12535\n",
       "No_show          12535\n",
       "dtype: int64"
      ]
     },
     "execution_count": 286,
     "metadata": {},
     "output_type": "execute_result"
    }
   ],
   "source": [
    "#getting the number of patients that did not receive the sms and did not show up\n",
    "xx = no_sms.query(\"No_show==1\").count()\n",
    "xx"
   ]
  },
  {
   "cell_type": "code",
   "execution_count": 287,
   "metadata": {},
   "outputs": [
    {
     "name": "stdout",
     "output_type": "stream",
     "text": [
      "Percentage of patients that did not receive an sms and did not show up: 16.703311346525417 %\n"
     ]
    }
   ],
   "source": [
    "#calculating the percentage of Percentage of patients that did not receive an sms and did not show up\n",
    "no_txt = percentage(12535,75045)\n",
    "print('Percentage of patients that did not receive an sms and did not show up:', no_txt, '%')"
   ]
  },
  {
   "cell_type": "markdown",
   "metadata": {},
   "source": [
    ">The sms_recieved column has minimal influnce on whether a patient shows up for their appointment or not"
   ]
  },
  {
   "cell_type": "markdown",
   "metadata": {},
   "source": [
    "## Which Neighbourhood has the most no-shows ?\n"
   ]
  },
  {
   "cell_type": "code",
   "execution_count": 288,
   "metadata": {
    "scrolled": true
   },
   "outputs": [
    {
     "data": {
      "text/plain": [
       "JARDIM CAMBURI                 7717\n",
       "MARIA ORTIZ                    5805\n",
       "RESISTÊNCIA                    4431\n",
       "JARDIM DA PENHA                3877\n",
       "ITARARÉ                        3514\n",
       "                               ... \n",
       "ILHA DO BOI                      35\n",
       "ILHA DO FRADE                    10\n",
       "AEROPORTO                         8\n",
       "ILHAS OCEÂNICAS DE TRINDADE       2\n",
       "PARQUE INDUSTRIAL                 1\n",
       "Name: Neighbourhood, Length: 81, dtype: int64"
      ]
     },
     "execution_count": 288,
     "metadata": {},
     "output_type": "execute_result"
    }
   ],
   "source": [
    "# analysing which town had the most patients\n",
    "df['Neighbourhood'].value_counts()\n"
   ]
  },
  {
   "cell_type": "markdown",
   "metadata": {},
   "source": [
    "> this table idictaes that JARDIM CAMBURI had the most patients"
   ]
  },
  {
   "cell_type": "code",
   "execution_count": 289,
   "metadata": {
    "scrolled": false
   },
   "outputs": [
    {
     "data": {
      "text/plain": [
       "JARDIM CAMBURI                 1465\n",
       "MARIA ORTIZ                    1219\n",
       "ITARARÉ                         923\n",
       "RESISTÊNCIA                     906\n",
       "CENTRO                          703\n",
       "                               ... \n",
       "PONTAL DE CAMBURI                12\n",
       "ILHA DO BOI                       3\n",
       "ILHAS OCEÂNICAS DE TRINDADE       2\n",
       "ILHA DO FRADE                     2\n",
       "AEROPORTO                         1\n",
       "Name: Neighbourhood, Length: 80, dtype: int64"
      ]
     },
     "execution_count": 289,
     "metadata": {},
     "output_type": "execute_result"
    }
   ],
   "source": [
    "# analysing which town has the most no shows\n",
    "\n",
    "missed['Neighbourhood'].value_counts()"
   ]
  },
  {
   "cell_type": "markdown",
   "metadata": {},
   "source": [
    "> Cobversely JARDIM CAMBURI had the most no shows"
   ]
  },
  {
   "cell_type": "code",
   "execution_count": 290,
   "metadata": {},
   "outputs": [
    {
     "name": "stdout",
     "output_type": "stream",
     "text": [
      "JARDIM CAMBURI; 18.984061163664638 %\n",
      "MARIA ORTIZ; 20.999138673557276 %\n",
      "ITARARÉ; 26.26636311895276 %\n"
     ]
    }
   ],
   "source": [
    "#calculating the percentage of the top 3 town that had no shows\n",
    "JARDIM_CAMBURI = percentage(1465,7717)\n",
    "MARIA_ORTIZ  = percentage(1219, 5805)\n",
    "ITARARÉ = percentage(923, 3514)\n",
    "\n",
    "print(\"JARDIM CAMBURI;\",JARDIM_CAMBURI,\"%\")\n",
    "print('MARIA ORTIZ;', MARIA_ORTIZ, '%')\n",
    "print(\"ITARARÉ;\",ITARARÉ,'%')"
   ]
  },
  {
   "cell_type": "code",
   "execution_count": 291,
   "metadata": {
    "scrolled": false
   },
   "outputs": [
    {
     "data": {
      "image/png": "[encoded data removed]",
      "text/plain": [
       "<Figure size 1440x576 with 1 Axes>"
      ]
     },
     "metadata": {
      "needs_background": "light"
     },
     "output_type": "display_data"
    }
   ],
   "source": [
    "#bar chart to analyse which town has the most no shows\n",
    "ind = missed['Neighbourhood'].value_counts().index\n",
    "missed['Neighbourhood'].value_counts()[ind].plot(kind='bar', xlabel = 'Town', ylabel ='Total',title = 'Total number of no shows by Town', figsize=(20, 8));\n"
   ]
  },
  {
   "cell_type": "markdown",
   "metadata": {},
   "source": [
    "### Result\n",
    ">From the analyses we can see that JARDIM CAMBURI had the most no shows but it also had the most number of patients that made an appointment.MARIA ORTIZ and ITARARÉ follwed in 2nd and 3rd respectively with the highest nummber of missed appointments. From this bar chart and analysis ITARARE has the highest percentage of no shows this might influence the out come of a patient showing up or not for their appointment.\n",
    "\n",
    "### Limitation \n",
    "> We do not know how far the towns are from the hospital or point of the appointment therefore we cannot conclude as to why ITARARE has the highest no show. If the distance data was given this would've more insight as to why ITARAE has the highest no shows."
   ]
  },
  {
   "cell_type": "code",
   "execution_count": null,
   "metadata": {},
   "outputs": [],
   "source": []
  },
  {
   "cell_type": "markdown",
   "metadata": {},
   "source": [
    "## Which age group has the most no shows ?\n",
    "\n"
   ]
  },
  {
   "cell_type": "code",
   "execution_count": 292,
   "metadata": {
    "scrolled": false
   },
   "outputs": [
    {
     "data": {
      "text/plain": [
       "count    110527.000000\n",
       "mean         37.088874\n",
       "std          23.110205\n",
       "min          -1.000000\n",
       "25%          18.000000\n",
       "50%          37.000000\n",
       "75%          55.000000\n",
       "max         115.000000\n",
       "Name: Age, dtype: float64"
      ]
     },
     "execution_count": 292,
     "metadata": {},
     "output_type": "execute_result"
    }
   ],
   "source": [
    "#we need to see some of the stats and distribution realted with the age column\n",
    "df['Age'].describe()\n"
   ]
  },
  {
   "cell_type": "markdown",
   "metadata": {},
   "source": [
    "> From the inforation above right away we can see that there is something with the data like fpr example the minimum age is -1 which is impossible to have a negative integer as an age."
   ]
  },
  {
   "cell_type": "code",
   "execution_count": 293,
   "metadata": {},
   "outputs": [
    {
     "data": {
      "text/plain": [
       "count    22319.000000\n",
       "mean        34.317667\n",
       "std         21.965941\n",
       "min          0.000000\n",
       "25%         16.000000\n",
       "50%         33.000000\n",
       "75%         51.000000\n",
       "max        115.000000\n",
       "Name: Age, dtype: float64"
      ]
     },
     "execution_count": 293,
     "metadata": {},
     "output_type": "execute_result"
    }
   ],
   "source": [
    "#stats to describe some of the information of the ages \n",
    "missed['Age'].describe()\n"
   ]
  },
  {
   "cell_type": "code",
   "execution_count": 294,
   "metadata": {
    "scrolled": true
   },
   "outputs": [
    {
     "data": {
      "text/plain": [
       "0      639\n",
       "1      415\n",
       "17     396\n",
       "19     394\n",
       "30     369\n",
       "      ... \n",
       "95       6\n",
       "115      3\n",
       "97       2\n",
       "98       1\n",
       "96       1\n",
       "Name: Age, Length: 100, dtype: int64"
      ]
     },
     "execution_count": 294,
     "metadata": {},
     "output_type": "execute_result"
    }
   ],
   "source": [
    "missed['Age'].value_counts()\n"
   ]
  },
  {
   "cell_type": "markdown",
   "metadata": {},
   "source": [
    "> There are too many values that have a zero as the age now we could replace them with the average but that will change the shape of pur data drastically."
   ]
  },
  {
   "cell_type": "code",
   "execution_count": 295,
   "metadata": {
    "scrolled": false
   },
   "outputs": [
    {
     "data": {
      "image/png": "[encoded data removed]",
      "text/plain": [
       "<Figure size 1152x1152 with 1 Axes>"
      ]
     },
     "metadata": {
      "needs_background": "light"
     },
     "output_type": "display_data"
    }
   ],
   "source": [
    "#plotting a histogram to see the distributioon of our data\n",
    "missed['Age'].plot(kind='hist',  xlabel = 'Age', ylabel ='Total patients',title = 'Total Number of no shows by age' ,figsize=(16, 16));"
   ]
  },
  {
   "cell_type": "markdown",
   "metadata": {},
   "source": [
    "### Result\n",
    ">The histogram is skewed to the right\n",
    "#### Conclusion\n",
    ">Investigation of the age column showed that the data was skewed to the right meaning that the value of the mode is to the left of the value of the  median. This results in the mean being bigger than the mode and the median.This inicats that most fo the patients that are below the age of the mean which is  35 years rounded up are likely to not make it to the appointment. Although ther is the the issue of too many 0 years old there is some truth in this analyses. older patients are more likely to look ter their helth than young adults who feel they still have a long life ahead of them. ) to 10 years old had the hoghest no shows whilist 40-115 years old more and patients attended their appointments thats why the graph starts decreasing as the age increases. It's an ineverse realtiosip the older the age the less likely a patient is to miss their appointment.\n",
    "#### Limitation\n",
    ">The mode of the data was 0 which is definalty an error in the data. This means tht most patients were zero years old, this might have resulted in a fault in the data capturing process. We could not replace these zeros with the avergae because this would change the shape of our data drastically leading to incorrect conclusions."
   ]
  },
  {
   "cell_type": "markdown",
   "metadata": {},
   "source": [
    "### Do Patients with a scholarship show up more than those without?\n"
   ]
  },
  {
   "cell_type": "code",
   "execution_count": 296,
   "metadata": {},
   "outputs": [
    {
     "data": {
      "text/html": [
       "<div>\n",
       "<style scoped>\n",
       "    .dataframe tbody tr th:only-of-type {\n",
       "        vertical-align: middle;\n",
       "    }\n",
       "\n",
       "    .dataframe tbody tr th {\n",
       "        vertical-align: top;\n",
       "    }\n",
       "\n",
       "    .dataframe thead th {\n",
       "        text-align: right;\n",
       "    }\n",
       "</style>\n",
       "<table border=\"1\" class=\"dataframe\">\n",
       "  <thead>\n",
       "    <tr style=\"text-align: right;\">\n",
       "      <th></th>\n",
       "      <th>PatientId</th>\n",
       "      <th>AppointmentID</th>\n",
       "      <th>Gender</th>\n",
       "      <th>Age</th>\n",
       "      <th>Neighbourhood</th>\n",
       "      <th>Scholarship</th>\n",
       "      <th>Hipertension</th>\n",
       "      <th>Diabetes</th>\n",
       "      <th>Alcoholism</th>\n",
       "      <th>Handcap</th>\n",
       "      <th>SMS_received</th>\n",
       "      <th>No_show</th>\n",
       "    </tr>\n",
       "  </thead>\n",
       "  <tbody>\n",
       "    <tr>\n",
       "      <th>12</th>\n",
       "      <td>5.666548e+14</td>\n",
       "      <td>5634718</td>\n",
       "      <td>F</td>\n",
       "      <td>22</td>\n",
       "      <td>NOVA PALESTINA</td>\n",
       "      <td>1</td>\n",
       "      <td>0</td>\n",
       "      <td>0</td>\n",
       "      <td>0</td>\n",
       "      <td>0</td>\n",
       "      <td>0</td>\n",
       "      <td>0</td>\n",
       "    </tr>\n",
       "    <tr>\n",
       "      <th>18</th>\n",
       "      <td>1.713538e+13</td>\n",
       "      <td>5621836</td>\n",
       "      <td>F</td>\n",
       "      <td>30</td>\n",
       "      <td>NOVA PALESTINA</td>\n",
       "      <td>1</td>\n",
       "      <td>0</td>\n",
       "      <td>0</td>\n",
       "      <td>0</td>\n",
       "      <td>0</td>\n",
       "      <td>1</td>\n",
       "      <td>0</td>\n",
       "    </tr>\n",
       "    <tr>\n",
       "      <th>33</th>\n",
       "      <td>7.653517e+12</td>\n",
       "      <td>5616921</td>\n",
       "      <td>F</td>\n",
       "      <td>38</td>\n",
       "      <td>SÃO CRISTÓVÃO</td>\n",
       "      <td>1</td>\n",
       "      <td>0</td>\n",
       "      <td>0</td>\n",
       "      <td>0</td>\n",
       "      <td>0</td>\n",
       "      <td>1</td>\n",
       "      <td>0</td>\n",
       "    </tr>\n",
       "    <tr>\n",
       "      <th>37</th>\n",
       "      <td>1.578132e+12</td>\n",
       "      <td>5637986</td>\n",
       "      <td>F</td>\n",
       "      <td>64</td>\n",
       "      <td>TABUAZEIRO</td>\n",
       "      <td>1</td>\n",
       "      <td>1</td>\n",
       "      <td>1</td>\n",
       "      <td>0</td>\n",
       "      <td>0</td>\n",
       "      <td>0</td>\n",
       "      <td>0</td>\n",
       "    </tr>\n",
       "    <tr>\n",
       "      <th>60</th>\n",
       "      <td>9.291168e+12</td>\n",
       "      <td>5628739</td>\n",
       "      <td>M</td>\n",
       "      <td>8</td>\n",
       "      <td>NOVA PALESTINA</td>\n",
       "      <td>1</td>\n",
       "      <td>0</td>\n",
       "      <td>0</td>\n",
       "      <td>0</td>\n",
       "      <td>0</td>\n",
       "      <td>0</td>\n",
       "      <td>0</td>\n",
       "    </tr>\n",
       "    <tr>\n",
       "      <th>...</th>\n",
       "      <td>...</td>\n",
       "      <td>...</td>\n",
       "      <td>...</td>\n",
       "      <td>...</td>\n",
       "      <td>...</td>\n",
       "      <td>...</td>\n",
       "      <td>...</td>\n",
       "      <td>...</td>\n",
       "      <td>...</td>\n",
       "      <td>...</td>\n",
       "      <td>...</td>\n",
       "      <td>...</td>\n",
       "    </tr>\n",
       "    <tr>\n",
       "      <th>110289</th>\n",
       "      <td>2.636517e+14</td>\n",
       "      <td>5759557</td>\n",
       "      <td>M</td>\n",
       "      <td>16</td>\n",
       "      <td>CONQUISTA</td>\n",
       "      <td>1</td>\n",
       "      <td>0</td>\n",
       "      <td>0</td>\n",
       "      <td>0</td>\n",
       "      <td>0</td>\n",
       "      <td>0</td>\n",
       "      <td>0</td>\n",
       "    </tr>\n",
       "    <tr>\n",
       "      <th>110382</th>\n",
       "      <td>9.875549e+13</td>\n",
       "      <td>5785156</td>\n",
       "      <td>F</td>\n",
       "      <td>37</td>\n",
       "      <td>RESISTÊNCIA</td>\n",
       "      <td>1</td>\n",
       "      <td>0</td>\n",
       "      <td>0</td>\n",
       "      <td>0</td>\n",
       "      <td>0</td>\n",
       "      <td>0</td>\n",
       "      <td>0</td>\n",
       "    </tr>\n",
       "    <tr>\n",
       "      <th>110423</th>\n",
       "      <td>1.751263e+14</td>\n",
       "      <td>5704561</td>\n",
       "      <td>F</td>\n",
       "      <td>34</td>\n",
       "      <td>RESISTÊNCIA</td>\n",
       "      <td>1</td>\n",
       "      <td>0</td>\n",
       "      <td>0</td>\n",
       "      <td>0</td>\n",
       "      <td>0</td>\n",
       "      <td>1</td>\n",
       "      <td>0</td>\n",
       "    </tr>\n",
       "    <tr>\n",
       "      <th>110426</th>\n",
       "      <td>9.691376e+09</td>\n",
       "      <td>5740289</td>\n",
       "      <td>M</td>\n",
       "      <td>13</td>\n",
       "      <td>RESISTÊNCIA</td>\n",
       "      <td>1</td>\n",
       "      <td>0</td>\n",
       "      <td>0</td>\n",
       "      <td>0</td>\n",
       "      <td>0</td>\n",
       "      <td>1</td>\n",
       "      <td>0</td>\n",
       "    </tr>\n",
       "    <tr>\n",
       "      <th>110473</th>\n",
       "      <td>7.555300e+11</td>\n",
       "      <td>5779851</td>\n",
       "      <td>M</td>\n",
       "      <td>2</td>\n",
       "      <td>NOVA PALESTINA</td>\n",
       "      <td>1</td>\n",
       "      <td>0</td>\n",
       "      <td>0</td>\n",
       "      <td>0</td>\n",
       "      <td>0</td>\n",
       "      <td>0</td>\n",
       "      <td>0</td>\n",
       "    </tr>\n",
       "  </tbody>\n",
       "</table>\n",
       "<p>8283 rows × 12 columns</p>\n",
       "</div>"
      ],
      "text/plain": [
       "           PatientId  AppointmentID Gender  Age   Neighbourhood  Scholarship  \\\n",
       "12      5.666548e+14        5634718      F   22  NOVA PALESTINA            1   \n",
       "18      1.713538e+13        5621836      F   30  NOVA PALESTINA            1   \n",
       "33      7.653517e+12        5616921      F   38   SÃO CRISTÓVÃO            1   \n",
       "37      1.578132e+12        5637986      F   64      TABUAZEIRO            1   \n",
       "60      9.291168e+12        5628739      M    8  NOVA PALESTINA            1   \n",
       "...              ...            ...    ...  ...             ...          ...   \n",
       "110289  2.636517e+14        5759557      M   16       CONQUISTA            1   \n",
       "110382  9.875549e+13        5785156      F   37     RESISTÊNCIA            1   \n",
       "110423  1.751263e+14        5704561      F   34     RESISTÊNCIA            1   \n",
       "110426  9.691376e+09        5740289      M   13     RESISTÊNCIA            1   \n",
       "110473  7.555300e+11        5779851      M    2  NOVA PALESTINA            1   \n",
       "\n",
       "        Hipertension  Diabetes  Alcoholism  Handcap  SMS_received No_show  \n",
       "12                 0         0           0        0             0       0  \n",
       "18                 0         0           0        0             1       0  \n",
       "33                 0         0           0        0             1       0  \n",
       "37                 1         1           0        0             0       0  \n",
       "60                 0         0           0        0             0       0  \n",
       "...              ...       ...         ...      ...           ...     ...  \n",
       "110289             0         0           0        0             0       0  \n",
       "110382             0         0           0        0             0       0  \n",
       "110423             0         0           0        0             1       0  \n",
       "110426             0         0           0        0             1       0  \n",
       "110473             0         0           0        0             0       0  \n",
       "\n",
       "[8283 rows x 12 columns]"
      ]
     },
     "execution_count": 296,
     "metadata": {},
     "output_type": "execute_result"
    }
   ],
   "source": [
    "#selecting all the rows that had a scholarshp and showed up\n",
    "scholar = showed_up.query('Scholarship == 1')\n",
    "scholar\n"
   ]
  },
  {
   "cell_type": "markdown",
   "metadata": {},
   "source": [
    "> This table shows rows of patients that had health care "
   ]
  },
  {
   "cell_type": "code",
   "execution_count": 297,
   "metadata": {},
   "outputs": [
    {
     "data": {
      "text/plain": [
       "PatientId        8283\n",
       "AppointmentID    8283\n",
       "Gender           8283\n",
       "Age              8283\n",
       "Neighbourhood    8283\n",
       "Scholarship      8283\n",
       "Hipertension     8283\n",
       "Diabetes         8283\n",
       "Alcoholism       8283\n",
       "Handcap          8283\n",
       "SMS_received     8283\n",
       "No_show          8283\n",
       "dtype: int64"
      ]
     },
     "execution_count": 297,
     "metadata": {},
     "output_type": "execute_result"
    }
   ],
   "source": [
    "scholar.count()"
   ]
  },
  {
   "cell_type": "code",
   "execution_count": 298,
   "metadata": {},
   "outputs": [
    {
     "data": {
      "text/html": [
       "<div>\n",
       "<style scoped>\n",
       "    .dataframe tbody tr th:only-of-type {\n",
       "        vertical-align: middle;\n",
       "    }\n",
       "\n",
       "    .dataframe tbody tr th {\n",
       "        vertical-align: top;\n",
       "    }\n",
       "\n",
       "    .dataframe thead th {\n",
       "        text-align: right;\n",
       "    }\n",
       "</style>\n",
       "<table border=\"1\" class=\"dataframe\">\n",
       "  <thead>\n",
       "    <tr style=\"text-align: right;\">\n",
       "      <th></th>\n",
       "      <th>PatientId</th>\n",
       "      <th>AppointmentID</th>\n",
       "      <th>Gender</th>\n",
       "      <th>Age</th>\n",
       "      <th>Neighbourhood</th>\n",
       "      <th>Scholarship</th>\n",
       "      <th>Hipertension</th>\n",
       "      <th>Diabetes</th>\n",
       "      <th>Alcoholism</th>\n",
       "      <th>Handcap</th>\n",
       "      <th>SMS_received</th>\n",
       "      <th>No_show</th>\n",
       "    </tr>\n",
       "  </thead>\n",
       "  <tbody>\n",
       "    <tr>\n",
       "      <th>17</th>\n",
       "      <td>1.479497e+13</td>\n",
       "      <td>5633460</td>\n",
       "      <td>F</td>\n",
       "      <td>40</td>\n",
       "      <td>CONQUISTA</td>\n",
       "      <td>1</td>\n",
       "      <td>0</td>\n",
       "      <td>0</td>\n",
       "      <td>0</td>\n",
       "      <td>0</td>\n",
       "      <td>0</td>\n",
       "      <td>1</td>\n",
       "    </tr>\n",
       "    <tr>\n",
       "      <th>31</th>\n",
       "      <td>3.112849e+11</td>\n",
       "      <td>5628907</td>\n",
       "      <td>M</td>\n",
       "      <td>12</td>\n",
       "      <td>NOVA PALESTINA</td>\n",
       "      <td>1</td>\n",
       "      <td>0</td>\n",
       "      <td>0</td>\n",
       "      <td>0</td>\n",
       "      <td>0</td>\n",
       "      <td>0</td>\n",
       "      <td>1</td>\n",
       "    </tr>\n",
       "    <tr>\n",
       "      <th>51</th>\n",
       "      <td>4.694699e+13</td>\n",
       "      <td>5534635</td>\n",
       "      <td>F</td>\n",
       "      <td>23</td>\n",
       "      <td>GRANDE VITÓRIA</td>\n",
       "      <td>1</td>\n",
       "      <td>0</td>\n",
       "      <td>0</td>\n",
       "      <td>0</td>\n",
       "      <td>0</td>\n",
       "      <td>1</td>\n",
       "      <td>1</td>\n",
       "    </tr>\n",
       "    <tr>\n",
       "      <th>52</th>\n",
       "      <td>7.987570e+14</td>\n",
       "      <td>5534639</td>\n",
       "      <td>F</td>\n",
       "      <td>23</td>\n",
       "      <td>GRANDE VITÓRIA</td>\n",
       "      <td>1</td>\n",
       "      <td>0</td>\n",
       "      <td>0</td>\n",
       "      <td>0</td>\n",
       "      <td>0</td>\n",
       "      <td>1</td>\n",
       "      <td>1</td>\n",
       "    </tr>\n",
       "    <tr>\n",
       "      <th>123</th>\n",
       "      <td>3.673278e+13</td>\n",
       "      <td>5621388</td>\n",
       "      <td>F</td>\n",
       "      <td>31</td>\n",
       "      <td>BELA VISTA</td>\n",
       "      <td>1</td>\n",
       "      <td>0</td>\n",
       "      <td>0</td>\n",
       "      <td>0</td>\n",
       "      <td>0</td>\n",
       "      <td>1</td>\n",
       "      <td>1</td>\n",
       "    </tr>\n",
       "    <tr>\n",
       "      <th>...</th>\n",
       "      <td>...</td>\n",
       "      <td>...</td>\n",
       "      <td>...</td>\n",
       "      <td>...</td>\n",
       "      <td>...</td>\n",
       "      <td>...</td>\n",
       "      <td>...</td>\n",
       "      <td>...</td>\n",
       "      <td>...</td>\n",
       "      <td>...</td>\n",
       "      <td>...</td>\n",
       "      <td>...</td>\n",
       "    </tr>\n",
       "    <tr>\n",
       "      <th>110238</th>\n",
       "      <td>8.937375e+11</td>\n",
       "      <td>5747054</td>\n",
       "      <td>F</td>\n",
       "      <td>40</td>\n",
       "      <td>JABOUR</td>\n",
       "      <td>1</td>\n",
       "      <td>0</td>\n",
       "      <td>0</td>\n",
       "      <td>0</td>\n",
       "      <td>0</td>\n",
       "      <td>1</td>\n",
       "      <td>1</td>\n",
       "    </tr>\n",
       "    <tr>\n",
       "      <th>110351</th>\n",
       "      <td>4.483937e+13</td>\n",
       "      <td>5371807</td>\n",
       "      <td>F</td>\n",
       "      <td>27</td>\n",
       "      <td>RESISTÊNCIA</td>\n",
       "      <td>1</td>\n",
       "      <td>0</td>\n",
       "      <td>0</td>\n",
       "      <td>0</td>\n",
       "      <td>0</td>\n",
       "      <td>1</td>\n",
       "      <td>1</td>\n",
       "    </tr>\n",
       "    <tr>\n",
       "      <th>110400</th>\n",
       "      <td>8.382848e+11</td>\n",
       "      <td>5739407</td>\n",
       "      <td>F</td>\n",
       "      <td>36</td>\n",
       "      <td>RESISTÊNCIA</td>\n",
       "      <td>1</td>\n",
       "      <td>0</td>\n",
       "      <td>0</td>\n",
       "      <td>0</td>\n",
       "      <td>0</td>\n",
       "      <td>1</td>\n",
       "      <td>1</td>\n",
       "    </tr>\n",
       "    <tr>\n",
       "      <th>110479</th>\n",
       "      <td>4.455244e+12</td>\n",
       "      <td>5638153</td>\n",
       "      <td>F</td>\n",
       "      <td>34</td>\n",
       "      <td>RESISTÊNCIA</td>\n",
       "      <td>1</td>\n",
       "      <td>0</td>\n",
       "      <td>0</td>\n",
       "      <td>0</td>\n",
       "      <td>0</td>\n",
       "      <td>1</td>\n",
       "      <td>1</td>\n",
       "    </tr>\n",
       "    <tr>\n",
       "      <th>110482</th>\n",
       "      <td>5.944225e+14</td>\n",
       "      <td>5639147</td>\n",
       "      <td>F</td>\n",
       "      <td>43</td>\n",
       "      <td>RESISTÊNCIA</td>\n",
       "      <td>1</td>\n",
       "      <td>0</td>\n",
       "      <td>0</td>\n",
       "      <td>0</td>\n",
       "      <td>0</td>\n",
       "      <td>1</td>\n",
       "      <td>1</td>\n",
       "    </tr>\n",
       "  </tbody>\n",
       "</table>\n",
       "<p>2578 rows × 12 columns</p>\n",
       "</div>"
      ],
      "text/plain": [
       "           PatientId  AppointmentID Gender  Age   Neighbourhood  Scholarship  \\\n",
       "17      1.479497e+13        5633460      F   40       CONQUISTA            1   \n",
       "31      3.112849e+11        5628907      M   12  NOVA PALESTINA            1   \n",
       "51      4.694699e+13        5534635      F   23  GRANDE VITÓRIA            1   \n",
       "52      7.987570e+14        5534639      F   23  GRANDE VITÓRIA            1   \n",
       "123     3.673278e+13        5621388      F   31      BELA VISTA            1   \n",
       "...              ...            ...    ...  ...             ...          ...   \n",
       "110238  8.937375e+11        5747054      F   40          JABOUR            1   \n",
       "110351  4.483937e+13        5371807      F   27     RESISTÊNCIA            1   \n",
       "110400  8.382848e+11        5739407      F   36     RESISTÊNCIA            1   \n",
       "110479  4.455244e+12        5638153      F   34     RESISTÊNCIA            1   \n",
       "110482  5.944225e+14        5639147      F   43     RESISTÊNCIA            1   \n",
       "\n",
       "        Hipertension  Diabetes  Alcoholism  Handcap  SMS_received No_show  \n",
       "17                 0         0           0        0             0       1  \n",
       "31                 0         0           0        0             0       1  \n",
       "51                 0         0           0        0             1       1  \n",
       "52                 0         0           0        0             1       1  \n",
       "123                0         0           0        0             1       1  \n",
       "...              ...       ...         ...      ...           ...     ...  \n",
       "110238             0         0           0        0             1       1  \n",
       "110351             0         0           0        0             1       1  \n",
       "110400             0         0           0        0             1       1  \n",
       "110479             0         0           0        0             1       1  \n",
       "110482             0         0           0        0             1       1  \n",
       "\n",
       "[2578 rows x 12 columns]"
      ]
     },
     "execution_count": 298,
     "metadata": {},
     "output_type": "execute_result"
    }
   ],
   "source": [
    "#selecting all the rows that had a scholarshp and missed the appointment\n",
    "scholar_x = missed.query('Scholarship == 1')\n",
    "scholar_x\n"
   ]
  },
  {
   "cell_type": "markdown",
   "metadata": {},
   "source": [
    "> this table shows data of patients that had health care but missed their appointments."
   ]
  },
  {
   "cell_type": "code",
   "execution_count": 299,
   "metadata": {},
   "outputs": [
    {
     "data": {
      "text/html": [
       "<div>\n",
       "<style scoped>\n",
       "    .dataframe tbody tr th:only-of-type {\n",
       "        vertical-align: middle;\n",
       "    }\n",
       "\n",
       "    .dataframe tbody tr th {\n",
       "        vertical-align: top;\n",
       "    }\n",
       "\n",
       "    .dataframe thead th {\n",
       "        text-align: right;\n",
       "    }\n",
       "</style>\n",
       "<table border=\"1\" class=\"dataframe\">\n",
       "  <thead>\n",
       "    <tr style=\"text-align: right;\">\n",
       "      <th></th>\n",
       "      <th>PatientId</th>\n",
       "      <th>AppointmentID</th>\n",
       "      <th>Gender</th>\n",
       "      <th>Age</th>\n",
       "      <th>Neighbourhood</th>\n",
       "      <th>Scholarship</th>\n",
       "      <th>Hipertension</th>\n",
       "      <th>Diabetes</th>\n",
       "      <th>Alcoholism</th>\n",
       "      <th>Handcap</th>\n",
       "      <th>SMS_received</th>\n",
       "      <th>No_show</th>\n",
       "    </tr>\n",
       "  </thead>\n",
       "  <tbody>\n",
       "    <tr>\n",
       "      <th>0</th>\n",
       "      <td>2.987250e+13</td>\n",
       "      <td>5642903</td>\n",
       "      <td>F</td>\n",
       "      <td>62</td>\n",
       "      <td>JARDIM DA PENHA</td>\n",
       "      <td>0</td>\n",
       "      <td>1</td>\n",
       "      <td>0</td>\n",
       "      <td>0</td>\n",
       "      <td>0</td>\n",
       "      <td>0</td>\n",
       "      <td>0</td>\n",
       "    </tr>\n",
       "    <tr>\n",
       "      <th>1</th>\n",
       "      <td>5.589978e+14</td>\n",
       "      <td>5642503</td>\n",
       "      <td>M</td>\n",
       "      <td>56</td>\n",
       "      <td>JARDIM DA PENHA</td>\n",
       "      <td>0</td>\n",
       "      <td>0</td>\n",
       "      <td>0</td>\n",
       "      <td>0</td>\n",
       "      <td>0</td>\n",
       "      <td>0</td>\n",
       "      <td>0</td>\n",
       "    </tr>\n",
       "    <tr>\n",
       "      <th>2</th>\n",
       "      <td>4.262962e+12</td>\n",
       "      <td>5642549</td>\n",
       "      <td>F</td>\n",
       "      <td>62</td>\n",
       "      <td>MATA DA PRAIA</td>\n",
       "      <td>0</td>\n",
       "      <td>0</td>\n",
       "      <td>0</td>\n",
       "      <td>0</td>\n",
       "      <td>0</td>\n",
       "      <td>0</td>\n",
       "      <td>0</td>\n",
       "    </tr>\n",
       "    <tr>\n",
       "      <th>3</th>\n",
       "      <td>8.679512e+11</td>\n",
       "      <td>5642828</td>\n",
       "      <td>F</td>\n",
       "      <td>8</td>\n",
       "      <td>PONTAL DE CAMBURI</td>\n",
       "      <td>0</td>\n",
       "      <td>0</td>\n",
       "      <td>0</td>\n",
       "      <td>0</td>\n",
       "      <td>0</td>\n",
       "      <td>0</td>\n",
       "      <td>0</td>\n",
       "    </tr>\n",
       "    <tr>\n",
       "      <th>4</th>\n",
       "      <td>8.841186e+12</td>\n",
       "      <td>5642494</td>\n",
       "      <td>F</td>\n",
       "      <td>56</td>\n",
       "      <td>JARDIM DA PENHA</td>\n",
       "      <td>0</td>\n",
       "      <td>1</td>\n",
       "      <td>1</td>\n",
       "      <td>0</td>\n",
       "      <td>0</td>\n",
       "      <td>0</td>\n",
       "      <td>0</td>\n",
       "    </tr>\n",
       "    <tr>\n",
       "      <th>...</th>\n",
       "      <td>...</td>\n",
       "      <td>...</td>\n",
       "      <td>...</td>\n",
       "      <td>...</td>\n",
       "      <td>...</td>\n",
       "      <td>...</td>\n",
       "      <td>...</td>\n",
       "      <td>...</td>\n",
       "      <td>...</td>\n",
       "      <td>...</td>\n",
       "      <td>...</td>\n",
       "      <td>...</td>\n",
       "    </tr>\n",
       "    <tr>\n",
       "      <th>110522</th>\n",
       "      <td>2.572134e+12</td>\n",
       "      <td>5651768</td>\n",
       "      <td>F</td>\n",
       "      <td>56</td>\n",
       "      <td>MARIA ORTIZ</td>\n",
       "      <td>0</td>\n",
       "      <td>0</td>\n",
       "      <td>0</td>\n",
       "      <td>0</td>\n",
       "      <td>0</td>\n",
       "      <td>1</td>\n",
       "      <td>0</td>\n",
       "    </tr>\n",
       "    <tr>\n",
       "      <th>110523</th>\n",
       "      <td>3.596266e+12</td>\n",
       "      <td>5650093</td>\n",
       "      <td>F</td>\n",
       "      <td>51</td>\n",
       "      <td>MARIA ORTIZ</td>\n",
       "      <td>0</td>\n",
       "      <td>0</td>\n",
       "      <td>0</td>\n",
       "      <td>0</td>\n",
       "      <td>0</td>\n",
       "      <td>1</td>\n",
       "      <td>0</td>\n",
       "    </tr>\n",
       "    <tr>\n",
       "      <th>110524</th>\n",
       "      <td>1.557663e+13</td>\n",
       "      <td>5630692</td>\n",
       "      <td>F</td>\n",
       "      <td>21</td>\n",
       "      <td>MARIA ORTIZ</td>\n",
       "      <td>0</td>\n",
       "      <td>0</td>\n",
       "      <td>0</td>\n",
       "      <td>0</td>\n",
       "      <td>0</td>\n",
       "      <td>1</td>\n",
       "      <td>0</td>\n",
       "    </tr>\n",
       "    <tr>\n",
       "      <th>110525</th>\n",
       "      <td>9.213493e+13</td>\n",
       "      <td>5630323</td>\n",
       "      <td>F</td>\n",
       "      <td>38</td>\n",
       "      <td>MARIA ORTIZ</td>\n",
       "      <td>0</td>\n",
       "      <td>0</td>\n",
       "      <td>0</td>\n",
       "      <td>0</td>\n",
       "      <td>0</td>\n",
       "      <td>1</td>\n",
       "      <td>0</td>\n",
       "    </tr>\n",
       "    <tr>\n",
       "      <th>110526</th>\n",
       "      <td>3.775115e+14</td>\n",
       "      <td>5629448</td>\n",
       "      <td>F</td>\n",
       "      <td>54</td>\n",
       "      <td>MARIA ORTIZ</td>\n",
       "      <td>0</td>\n",
       "      <td>0</td>\n",
       "      <td>0</td>\n",
       "      <td>0</td>\n",
       "      <td>0</td>\n",
       "      <td>1</td>\n",
       "      <td>0</td>\n",
       "    </tr>\n",
       "  </tbody>\n",
       "</table>\n",
       "<p>79925 rows × 12 columns</p>\n",
       "</div>"
      ],
      "text/plain": [
       "           PatientId  AppointmentID Gender  Age      Neighbourhood  \\\n",
       "0       2.987250e+13        5642903      F   62    JARDIM DA PENHA   \n",
       "1       5.589978e+14        5642503      M   56    JARDIM DA PENHA   \n",
       "2       4.262962e+12        5642549      F   62      MATA DA PRAIA   \n",
       "3       8.679512e+11        5642828      F    8  PONTAL DE CAMBURI   \n",
       "4       8.841186e+12        5642494      F   56    JARDIM DA PENHA   \n",
       "...              ...            ...    ...  ...                ...   \n",
       "110522  2.572134e+12        5651768      F   56        MARIA ORTIZ   \n",
       "110523  3.596266e+12        5650093      F   51        MARIA ORTIZ   \n",
       "110524  1.557663e+13        5630692      F   21        MARIA ORTIZ   \n",
       "110525  9.213493e+13        5630323      F   38        MARIA ORTIZ   \n",
       "110526  3.775115e+14        5629448      F   54        MARIA ORTIZ   \n",
       "\n",
       "        Scholarship  Hipertension  Diabetes  Alcoholism  Handcap  \\\n",
       "0                 0             1         0           0        0   \n",
       "1                 0             0         0           0        0   \n",
       "2                 0             0         0           0        0   \n",
       "3                 0             0         0           0        0   \n",
       "4                 0             1         1           0        0   \n",
       "...             ...           ...       ...         ...      ...   \n",
       "110522            0             0         0           0        0   \n",
       "110523            0             0         0           0        0   \n",
       "110524            0             0         0           0        0   \n",
       "110525            0             0         0           0        0   \n",
       "110526            0             0         0           0        0   \n",
       "\n",
       "        SMS_received No_show  \n",
       "0                  0       0  \n",
       "1                  0       0  \n",
       "2                  0       0  \n",
       "3                  0       0  \n",
       "4                  0       0  \n",
       "...              ...     ...  \n",
       "110522             1       0  \n",
       "110523             1       0  \n",
       "110524             1       0  \n",
       "110525             1       0  \n",
       "110526             1       0  \n",
       "\n",
       "[79925 rows x 12 columns]"
      ]
     },
     "execution_count": 299,
     "metadata": {},
     "output_type": "execute_result"
    }
   ],
   "source": [
    "#selecting all the rows that had no scholarshp and showed up\n",
    "no_scholar = showed_up.query('Scholarship == 0')\n",
    "no_scholar"
   ]
  },
  {
   "cell_type": "markdown",
   "metadata": {},
   "source": [
    "> this table shows data of patients that had no health care but but showed up to their appointments."
   ]
  },
  {
   "cell_type": "code",
   "execution_count": 300,
   "metadata": {
    "scrolled": false
   },
   "outputs": [
    {
     "data": {
      "text/html": [
       "<div>\n",
       "<style scoped>\n",
       "    .dataframe tbody tr th:only-of-type {\n",
       "        vertical-align: middle;\n",
       "    }\n",
       "\n",
       "    .dataframe tbody tr th {\n",
       "        vertical-align: top;\n",
       "    }\n",
       "\n",
       "    .dataframe thead th {\n",
       "        text-align: right;\n",
       "    }\n",
       "</style>\n",
       "<table border=\"1\" class=\"dataframe\">\n",
       "  <thead>\n",
       "    <tr style=\"text-align: right;\">\n",
       "      <th></th>\n",
       "      <th>PatientId</th>\n",
       "      <th>AppointmentID</th>\n",
       "      <th>Gender</th>\n",
       "      <th>Age</th>\n",
       "      <th>Neighbourhood</th>\n",
       "      <th>Scholarship</th>\n",
       "      <th>Hipertension</th>\n",
       "      <th>Diabetes</th>\n",
       "      <th>Alcoholism</th>\n",
       "      <th>Handcap</th>\n",
       "      <th>SMS_received</th>\n",
       "      <th>No_show</th>\n",
       "    </tr>\n",
       "  </thead>\n",
       "  <tbody>\n",
       "    <tr>\n",
       "      <th>6</th>\n",
       "      <td>7.336882e+14</td>\n",
       "      <td>5630279</td>\n",
       "      <td>F</td>\n",
       "      <td>23</td>\n",
       "      <td>GOIABEIRAS</td>\n",
       "      <td>0</td>\n",
       "      <td>0</td>\n",
       "      <td>0</td>\n",
       "      <td>0</td>\n",
       "      <td>0</td>\n",
       "      <td>0</td>\n",
       "      <td>1</td>\n",
       "    </tr>\n",
       "    <tr>\n",
       "      <th>7</th>\n",
       "      <td>3.449833e+12</td>\n",
       "      <td>5630575</td>\n",
       "      <td>F</td>\n",
       "      <td>39</td>\n",
       "      <td>GOIABEIRAS</td>\n",
       "      <td>0</td>\n",
       "      <td>0</td>\n",
       "      <td>0</td>\n",
       "      <td>0</td>\n",
       "      <td>0</td>\n",
       "      <td>0</td>\n",
       "      <td>1</td>\n",
       "    </tr>\n",
       "    <tr>\n",
       "      <th>11</th>\n",
       "      <td>7.542951e+12</td>\n",
       "      <td>5620163</td>\n",
       "      <td>M</td>\n",
       "      <td>29</td>\n",
       "      <td>NOVA PALESTINA</td>\n",
       "      <td>0</td>\n",
       "      <td>0</td>\n",
       "      <td>0</td>\n",
       "      <td>0</td>\n",
       "      <td>0</td>\n",
       "      <td>1</td>\n",
       "      <td>1</td>\n",
       "    </tr>\n",
       "    <tr>\n",
       "      <th>20</th>\n",
       "      <td>6.222575e+14</td>\n",
       "      <td>5626083</td>\n",
       "      <td>F</td>\n",
       "      <td>30</td>\n",
       "      <td>NOVA PALESTINA</td>\n",
       "      <td>0</td>\n",
       "      <td>0</td>\n",
       "      <td>0</td>\n",
       "      <td>0</td>\n",
       "      <td>0</td>\n",
       "      <td>0</td>\n",
       "      <td>1</td>\n",
       "    </tr>\n",
       "    <tr>\n",
       "      <th>21</th>\n",
       "      <td>1.215484e+13</td>\n",
       "      <td>5628338</td>\n",
       "      <td>F</td>\n",
       "      <td>4</td>\n",
       "      <td>CONQUISTA</td>\n",
       "      <td>0</td>\n",
       "      <td>0</td>\n",
       "      <td>0</td>\n",
       "      <td>0</td>\n",
       "      <td>0</td>\n",
       "      <td>0</td>\n",
       "      <td>1</td>\n",
       "    </tr>\n",
       "    <tr>\n",
       "      <th>...</th>\n",
       "      <td>...</td>\n",
       "      <td>...</td>\n",
       "      <td>...</td>\n",
       "      <td>...</td>\n",
       "      <td>...</td>\n",
       "      <td>...</td>\n",
       "      <td>...</td>\n",
       "      <td>...</td>\n",
       "      <td>...</td>\n",
       "      <td>...</td>\n",
       "      <td>...</td>\n",
       "      <td>...</td>\n",
       "    </tr>\n",
       "    <tr>\n",
       "      <th>110484</th>\n",
       "      <td>5.133650e+14</td>\n",
       "      <td>5772155</td>\n",
       "      <td>F</td>\n",
       "      <td>45</td>\n",
       "      <td>BARRO VERMELHO</td>\n",
       "      <td>0</td>\n",
       "      <td>0</td>\n",
       "      <td>0</td>\n",
       "      <td>0</td>\n",
       "      <td>0</td>\n",
       "      <td>0</td>\n",
       "      <td>1</td>\n",
       "    </tr>\n",
       "    <tr>\n",
       "      <th>110492</th>\n",
       "      <td>6.456342e+14</td>\n",
       "      <td>5786741</td>\n",
       "      <td>M</td>\n",
       "      <td>33</td>\n",
       "      <td>MARIA ORTIZ</td>\n",
       "      <td>0</td>\n",
       "      <td>1</td>\n",
       "      <td>0</td>\n",
       "      <td>0</td>\n",
       "      <td>0</td>\n",
       "      <td>0</td>\n",
       "      <td>1</td>\n",
       "    </tr>\n",
       "    <tr>\n",
       "      <th>110496</th>\n",
       "      <td>8.544295e+13</td>\n",
       "      <td>5779046</td>\n",
       "      <td>F</td>\n",
       "      <td>37</td>\n",
       "      <td>MARIA ORTIZ</td>\n",
       "      <td>0</td>\n",
       "      <td>1</td>\n",
       "      <td>0</td>\n",
       "      <td>0</td>\n",
       "      <td>0</td>\n",
       "      <td>0</td>\n",
       "      <td>1</td>\n",
       "    </tr>\n",
       "    <tr>\n",
       "      <th>110515</th>\n",
       "      <td>6.456342e+14</td>\n",
       "      <td>5778621</td>\n",
       "      <td>M</td>\n",
       "      <td>33</td>\n",
       "      <td>MARIA ORTIZ</td>\n",
       "      <td>0</td>\n",
       "      <td>1</td>\n",
       "      <td>0</td>\n",
       "      <td>0</td>\n",
       "      <td>0</td>\n",
       "      <td>0</td>\n",
       "      <td>1</td>\n",
       "    </tr>\n",
       "    <tr>\n",
       "      <th>110516</th>\n",
       "      <td>6.923772e+13</td>\n",
       "      <td>5780205</td>\n",
       "      <td>F</td>\n",
       "      <td>37</td>\n",
       "      <td>MARIA ORTIZ</td>\n",
       "      <td>0</td>\n",
       "      <td>0</td>\n",
       "      <td>0</td>\n",
       "      <td>0</td>\n",
       "      <td>0</td>\n",
       "      <td>0</td>\n",
       "      <td>1</td>\n",
       "    </tr>\n",
       "  </tbody>\n",
       "</table>\n",
       "<p>19741 rows × 12 columns</p>\n",
       "</div>"
      ],
      "text/plain": [
       "           PatientId  AppointmentID Gender  Age   Neighbourhood  Scholarship  \\\n",
       "6       7.336882e+14        5630279      F   23      GOIABEIRAS            0   \n",
       "7       3.449833e+12        5630575      F   39      GOIABEIRAS            0   \n",
       "11      7.542951e+12        5620163      M   29  NOVA PALESTINA            0   \n",
       "20      6.222575e+14        5626083      F   30  NOVA PALESTINA            0   \n",
       "21      1.215484e+13        5628338      F    4       CONQUISTA            0   \n",
       "...              ...            ...    ...  ...             ...          ...   \n",
       "110484  5.133650e+14        5772155      F   45  BARRO VERMELHO            0   \n",
       "110492  6.456342e+14        5786741      M   33     MARIA ORTIZ            0   \n",
       "110496  8.544295e+13        5779046      F   37     MARIA ORTIZ            0   \n",
       "110515  6.456342e+14        5778621      M   33     MARIA ORTIZ            0   \n",
       "110516  6.923772e+13        5780205      F   37     MARIA ORTIZ            0   \n",
       "\n",
       "        Hipertension  Diabetes  Alcoholism  Handcap  SMS_received No_show  \n",
       "6                  0         0           0        0             0       1  \n",
       "7                  0         0           0        0             0       1  \n",
       "11                 0         0           0        0             1       1  \n",
       "20                 0         0           0        0             0       1  \n",
       "21                 0         0           0        0             0       1  \n",
       "...              ...       ...         ...      ...           ...     ...  \n",
       "110484             0         0           0        0             0       1  \n",
       "110492             1         0           0        0             0       1  \n",
       "110496             1         0           0        0             0       1  \n",
       "110515             1         0           0        0             0       1  \n",
       "110516             0         0           0        0             0       1  \n",
       "\n",
       "[19741 rows x 12 columns]"
      ]
     },
     "execution_count": 300,
     "metadata": {},
     "output_type": "execute_result"
    }
   ],
   "source": [
    "#selecting all the rows that had no scholarshp and missed the appointment\n",
    "\n",
    "no_scholar_x = missed.query('Scholarship == 0')\n",
    "no_scholar_x"
   ]
  },
  {
   "cell_type": "markdown",
   "metadata": {},
   "source": [
    "> this table shows data of patients that had no health care and missed their appointments."
   ]
  },
  {
   "cell_type": "code",
   "execution_count": 301,
   "metadata": {},
   "outputs": [],
   "source": [
    "#getting information about patients with a health care and those without to  plot on a bar graph\n",
    "health_care = scholar['No_show'].count()\n",
    "no_health_care = no_scholar['No_show'].count()\n",
    "\n",
    "health_care_x = scholar_x['No_show'].count()\n",
    "no_health_care_x = no_scholar_x['No_show'].count()"
   ]
  },
  {
   "cell_type": "code",
   "execution_count": 302,
   "metadata": {
    "scrolled": false
   },
   "outputs": [
    {
     "data": {
      "image/png": "[encoded data removed]",
      "text/plain": [
       "<Figure size 432x288 with 1 Axes>"
      ]
     },
     "metadata": {
      "needs_background": "light"
     },
     "output_type": "display_data"
    }
   ],
   "source": [
    "#plotting the bar graph of poeple with scholars and without scholars\n",
    "locations = [1, 2]\n",
    "\n",
    "heights = [health_care, no_health_care]\n",
    "heights_x = [health_care_x, no_health_care_x]\n",
    "\n",
    "labels = [\"Health care\", \"No Health Care\"]\n",
    "labels_x = [\"Health care\", \"No Health Care\"]\n",
    "\n",
    "plt.bar(locations, heights, color='g', tick_label=labels)\n",
    "\n",
    "plt.bar(locations, heights_x, color='r', tick_label=labels_x)\n",
    "\n",
    "plt.title(\"Comparison between patients with and without health care that made the appointment \")\n",
    "plt.xlabel(\"Healthcare\")\n",
    "plt.ylabel('Patients that made it to their appointment');\n",
    "plt.legend([\"Made the Appointment\", \"Missed the appointmment\"]);"
   ]
  },
  {
   "cell_type": "markdown",
   "metadata": {},
   "source": [
    "### Result\n",
    "> A small number of patients had healthcare this number was below ten thousand but of those that had health care most of them showed up for their appointment.\n",
    "### Conclusion\n",
    "> Very few patients had health care the number is so small that we cannot draw any conclusive insights form this small number. But from the small number we have it is clear that if a patient has heakth care they are more likely to show for an appointmnet than those who are paying out of their own pockets. if more data was available about patients with health care we could've seen a cleareer relationship between how many of those with health care showed up and how many did not. A lot of conditons  were attached to this health caremlike families had to ensure that their childrn attend school and get vaccinated probably most families had no helath care beacuse they faile to meet this criteria resulting in their health care being suspended.\n",
    "### Limitations\n",
    "> Very few data to work with to derive any type of conclusions if ant=ything more patients need helathcare."
   ]
  },
  {
   "cell_type": "markdown",
   "metadata": {},
   "source": [
    "### Are patients with pre existing conditons like hipertension, handcap or diabetes more likely to show up for their appointment?"
   ]
  },
  {
   "cell_type": "markdown",
   "metadata": {},
   "source": [
    "### Hipertension"
   ]
  },
  {
   "cell_type": "code",
   "execution_count": 303,
   "metadata": {},
   "outputs": [
    {
     "name": "stdout",
     "output_type": "stream",
     "text": [
      "Total number of patients with Hipertension: 21801\n",
      "Total number of patients with Hipertension that showed up: 18029\n",
      "Total number of patients with Hipertension that did not showe up: 3772\n"
     ]
    }
   ],
   "source": [
    "#getting the counts and totals we are goin to use for calculating percentages\n",
    "hptnsn_tot = df.query('Hipertension == 1')['Hipertension'].count()\n",
    "print('Total number of patients with Hipertension:',hptnsn_tot)\n",
    "\n",
    "hipertension = showed_up.query('Hipertension == 1')['Hipertension'].count()\n",
    "print('Total number of patients with Hipertension that showed up:',hipertension)\n",
    "\n",
    "hipertension_x = missed.query('Hipertension == 1')['Hipertension'].count()\n",
    "print('Total number of patients with Hipertension that did not showe up:',hipertension_x)\n",
    "\n",
    "\n"
   ]
  },
  {
   "cell_type": "code",
   "execution_count": 304,
   "metadata": {},
   "outputs": [
    {
     "name": "stdout",
     "output_type": "stream",
     "text": [
      "Percentage of Patients with Hipertention that showed up: 82.69804137424889 %\n",
      "Percentage of Patients with Hipertention that did not showed up: 17.301958625751112 %\n"
     ]
    }
   ],
   "source": [
    "#getting the percenatges of patients with Hipertension and how many of those showed up\n",
    "\n",
    "Hiper_percent = percentage(18029,21801)\n",
    "Hiper_x_percent = percentage(3772,21801)\n",
    "\n",
    "print('Percentage of Patients with Hipertention that showed up:',Hiper_percent,'%') \n",
    "\n",
    "print('Percentage of Patients with Hipertention that did not showed up:',Hiper_x_percent,'%') "
   ]
  },
  {
   "cell_type": "code",
   "execution_count": 305,
   "metadata": {},
   "outputs": [
    {
     "data": {
      "image/png": "[encoded data removed]",
      "text/plain": [
       "<Figure size 432x288 with 1 Axes>"
      ]
     },
     "metadata": {
      "needs_background": "light"
     },
     "output_type": "display_data"
    }
   ],
   "source": [
    "#bar graph to show the comparison between Hipertension an non Hipertension patients that didnt show up\n",
    "\n",
    "locations = [1, 2]\n",
    "\n",
    "heights = [Hiper_percent, Hiper_x_percent]\n",
    "\n",
    "\n",
    "labels = [\"Showed Up\", \" Missed\"]\n",
    "\n",
    "\n",
    "plt.bar(locations, heights, color='g', tick_label=labels)\n",
    "plt.title(\"Patients with Hipertension that showed up vs those that did not show up \")\n",
    "plt.xlabel(\"Patients with Hipertension\")\n",
    "plt.ylabel('Percentage');\n",
    "plt.legend('Hipertension');"
   ]
  },
  {
   "cell_type": "markdown",
   "metadata": {},
   "source": [
    "> This bar graph shows the percentage of patients that had hipertension that showed up to their appointmeants and the percentage of those with hipertwnsion that did not show up."
   ]
  },
  {
   "cell_type": "markdown",
   "metadata": {},
   "source": [
    "### Diabetes"
   ]
  },
  {
   "cell_type": "code",
   "execution_count": 306,
   "metadata": {},
   "outputs": [
    {
     "name": "stdout",
     "output_type": "stream",
     "text": [
      "Total number of patients with Diabetes: 7943\n",
      "Total number of patients with Diabetes that showed up: 6513\n",
      "Total number of patients with Diabetes that did not showe up: 1430\n"
     ]
    }
   ],
   "source": [
    "#getting the counts and totals we are goin to use for calculating percentages\n",
    "diabetes_tot = df.query('Diabetes == 1')['Diabetes'].count()\n",
    "print('Total number of patients with Diabetes:',diabetes_tot)\n",
    "\n",
    "diabetes = showed_up.query('Diabetes == 1')['Diabetes'].count()\n",
    "print('Total number of patients with Diabetes that showed up:',diabetes)\n",
    "\n",
    "diabetes_x = missed.query('Diabetes == 1')['Diabetes'].count()\n",
    "print('Total number of patients with Diabetes that did not showe up:',diabetes_x)"
   ]
  },
  {
   "cell_type": "code",
   "execution_count": 307,
   "metadata": {},
   "outputs": [
    {
     "name": "stdout",
     "output_type": "stream",
     "text": [
      "Percentage of Patients with Diabetes that showed up: 81.99672667757774 %\n",
      "Percentage of Patients with Diabetes that did not showed up: 18.00327332242226 %\n"
     ]
    }
   ],
   "source": [
    "#getting the percenatges of patients with Diabetes and how many of those showed up and didn't show up\n",
    "\n",
    "dibetic_percent = percentage(6513,7943)\n",
    "diabetic_x_percent = percentage(1430,7943)\n",
    "\n",
    "print('Percentage of Patients with Diabetes that showed up:',dibetic_percent,'%') \n",
    "\n",
    "print('Percentage of Patients with Diabetes that did not showed up:',diabetic_x_percent,'%')"
   ]
  },
  {
   "cell_type": "code",
   "execution_count": 308,
   "metadata": {},
   "outputs": [
    {
     "data": {
      "image/png": "[encoded data removed]",
      "text/plain": [
       "<Figure size 432x288 with 1 Axes>"
      ]
     },
     "metadata": {
      "needs_background": "light"
     },
     "output_type": "display_data"
    }
   ],
   "source": [
    "#bar graph to show the comparison between Diabetic and Non Diabetic patients that didnt show up\n",
    "\n",
    "\n",
    "locations = [1, 2]\n",
    "\n",
    "heights = [dibetic_percent, diabetic_x_percent]\n",
    "\n",
    "\n",
    "labels = [\"Showed Up\", \" Missed\"]\n",
    "\n",
    "\n",
    "plt.bar(locations, heights, color='r', tick_label=labels)\n",
    "plt.title(\"Patients with Hipertension that showed up vs those that did not show up \")\n",
    "plt.xlabel(\"Patients with Diabetes\")\n",
    "plt.ylabel('Percentage');\n",
    "plt.legend('Diabetic');"
   ]
  },
  {
   "cell_type": "markdown",
   "metadata": {},
   "source": [
    "> The bar graph shows the percentage of patients that have diabetes that showed up to their appointmeants and the percentage of those with biabetes that did not show up."
   ]
  },
  {
   "cell_type": "markdown",
   "metadata": {},
   "source": [
    "### Handcap"
   ]
  },
  {
   "cell_type": "code",
   "execution_count": 309,
   "metadata": {},
   "outputs": [
    {
     "name": "stdout",
     "output_type": "stream",
     "text": [
      "Total number of handcap patients : 2042\n",
      "Total number of handcap patients : 1676\n",
      "Total number of handcap patients that did not show up: 366\n"
     ]
    }
   ],
   "source": [
    "#getting the counts and totals we are goin to use for calculating percentages\n",
    "handcap_tot = df.query('Handcap == 1')['Handcap'].count()\n",
    "print('Total number of handcap patients :',handcap_tot)\n",
    "\n",
    "handcap = showed_up.query('Handcap == 1')['Handcap'].count()\n",
    "print('Total number of handcap patients :',handcap)\n",
    "\n",
    "handcap_x = missed.query('Handcap == 1')['Handcap'].count()\n",
    "print('Total number of handcap patients that did not show up:',handcap_x)"
   ]
  },
  {
   "cell_type": "code",
   "execution_count": 310,
   "metadata": {},
   "outputs": [
    {
     "name": "stdout",
     "output_type": "stream",
     "text": [
      "Percentage of Handcap  that showed up: 82.07639569049951 %\n",
      "Percentage of Handcap Patients  that did not showed up: 17.92360430950049 %\n"
     ]
    }
   ],
   "source": [
    "#getting the percenatges of patients who are handcap and how many of those showed up and didn't show up\n",
    "\n",
    "handcap_percent = percentage(1676,2042)\n",
    "print('Percentage of Handcap  that showed up:',handcap_percent,'%') \n",
    "\n",
    "handcap_x_percent = percentage(366,2042)\n",
    "print('Percentage of Handcap Patients  that did not showed up:',handcap_x_percent,'%')"
   ]
  },
  {
   "cell_type": "code",
   "execution_count": 311,
   "metadata": {
    "scrolled": true
   },
   "outputs": [
    {
     "data": {
      "image/png": "[encoded data removed]",
      "text/plain": [
       "<Figure size 432x288 with 1 Axes>"
      ]
     },
     "metadata": {
      "needs_background": "light"
     },
     "output_type": "display_data"
    }
   ],
   "source": [
    "#bar graph to show the comparison between handcap an abled patients that didnt show up\n",
    "\n",
    "\n",
    "locations = [1, 2]\n",
    "\n",
    "heights = [handcap_percent, handcap_x_percent]\n",
    "\n",
    "\n",
    "labels = [\"Showed Up\", \" Missed\"]\n",
    "\n",
    "\n",
    "plt.bar(locations, heights, color='y', tick_label=labels)\n",
    "plt.title(\"Handcap patients that showed up vs those that did not show up \")\n",
    "plt.xlabel(\" Handcap Patients \")\n",
    "plt.ylabel('Percentage');\n",
    "plt.legend('Handcap');"
   ]
  },
  {
   "cell_type": "markdown",
   "metadata": {},
   "source": [
    "The bar graph shows the percentage of handcap patients  that showed up to their appointmeants and the percentage of those that did not show up."
   ]
  },
  {
   "cell_type": "markdown",
   "metadata": {},
   "source": [
    "<a id='conclusions'></a>\n",
    "### Result\n",
    "> Most patients that had a diagnosis in diabetis, hipertension and those that were handcap showed up to their appointments more than those that had no diagnosis. this is what we expected because these are the patients that need regular medical check ups.\n",
    "\n",
    "# Conclusions\n",
    "> From the results of the analysis performed on our questions fromt the following can be concluded, if a patient made an appointment and was from JARDIM CAMBURI they had a 18.98% chance of not showing up, if from MARIA ORTIZ they had  a 21% percent and finaly if they were from the tow of of ITARARÉ they had a 26.2% chance of missing their appointment. These 3 towns had the highest percenatge of no shows of all the towns included in the dataset.\n",
    "\n",
    "> if a patient was below the age of 34 years they most likely to miss their appointment because the bar graph was right skewd meaning that most of the no show ages were less than the mean age which 34,3 years, 35 years if rounded up. Also bearing in mind that the mode (the age that appeared the most) was zero years old menas that the result we obtaioned has a sigificant error since it impossible to have those many patients at the age of zero years.\n",
    "\n",
    "> A few patients  had  healh care,  the reasons for this were disucssed undr the analysis of the health care data wich showed that a small percentage of the patients were under health care the time this data was recorded. The resluts that were drawn from thos small data idicated that if a patient had thelath care they are more likely to show up for theri appointment.\n",
    "\n",
    "> As expected from the insights that were drawn from the visualisations the percentage of patients that had a medical conditon that showed up to appointments was way higher than the patients ho had no diagnosis. From the medical conditios analysed Diabetic patients had the highest no show with 18%. \n",
    "\n",
    "> To sum it all up is a patient is Male below the age of 35, is from the neighbourhood of Itarare, has no health care and is diabetic, they are likely to miss their appointments. \n",
    "\n"
   ]
  },
  {
   "cell_type": "markdown",
   "metadata": {},
   "source": [
    "## Limitations\n",
    ">The data had a few data points to get valid reliable insights and there were errors mentioned above with some of the data capturing process. A good sample size would've been five hundred thousand to a million Appointment IDs. If the appointment day was also accurate we would've investigated whether weedays or weekends had more no shows. \n"
   ]
  },
  {
   "cell_type": "markdown",
   "metadata": {
    "collapsed": true
   },
   "source": [
    "### References\n",
    "> https://www.w3schools.com/python/numpy/numpy_ufunc_simple_arithmetic.asp\n",
    "> https://www.w3schools.com/python/pandas/pandas_cleaning_wrong_data.asp\n",
    "> https://matplotlib.org/stable/gallery/lines_bars_and_markers/barchart.html"
   ]
  },
  {
   "cell_type": "code",
   "execution_count": null,
   "metadata": {},
   "outputs": [],
   "source": []
  }
 ],
 "metadata": {
  "kernelspec": {
   "display_name": "Python 3 (ipykernel)",
   "language": "python",
   "name": "python3"
  },
  "language_info": {
   "codemirror_mode": {
    "name": "ipython",
    "version": 3
   },
   "file_extension": ".py",
   "mimetype": "text/x-python",
   "name": "python",
   "nbconvert_exporter": "python",
   "pygments_lexer": "ipython3",
   "version": "3.9.12"
  }
 },
 "nbformat": 4,
 "nbformat_minor": 2
}
